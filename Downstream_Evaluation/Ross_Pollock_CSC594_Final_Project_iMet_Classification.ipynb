{
  "nbformat": 4,
  "nbformat_minor": 0,
  "metadata": {
    "colab": {
      "name": "Ross_Pollock_CSC594_Final_Project_iMet_Classification.ipynb",
      "provenance": [],
      "collapsed_sections": []
    },
    "kernelspec": {
      "name": "python3",
      "display_name": "Python 3"
    },
    "accelerator": "GPU"
  },
  "cells": [
    {
      "cell_type": "markdown",
      "metadata": {
        "id": "LKvDl-vaeIMM"
      },
      "source": [
        "# Final Project: iMet Classification Task\n",
        "## CSC 594: Advanced Deep Learning\n",
        "## Ross Pollock"
      ]
    },
    {
      "cell_type": "code",
      "metadata": {
        "colab": {
          "base_uri": "https://localhost:8080/"
        },
        "id": "52Lb12J7kkvn",
        "outputId": "aa6a02d2-e1a5-467b-b68e-e6c2f6056818"
      },
      "source": [
        "! pip install tensorflow_addons -U"
      ],
      "execution_count": null,
      "outputs": [
        {
          "output_type": "stream",
          "text": [
            "Collecting tensorflow_addons\n",
            "\u001b[?25l  Downloading https://files.pythonhosted.org/packages/b3/f8/d6fca180c123f2851035c4493690662ebdad0849a9059d56035434bff5c9/tensorflow_addons-0.11.2-cp36-cp36m-manylinux2010_x86_64.whl (1.1MB)\n",
            "\r\u001b[K     |▎                               | 10kB 18.0MB/s eta 0:00:01\r\u001b[K     |▋                               | 20kB 25.4MB/s eta 0:00:01\r\u001b[K     |█                               | 30kB 30.6MB/s eta 0:00:01\r\u001b[K     |█▏                              | 40kB 32.0MB/s eta 0:00:01\r\u001b[K     |█▌                              | 51kB 33.5MB/s eta 0:00:01\r\u001b[K     |█▉                              | 61kB 35.7MB/s eta 0:00:01\r\u001b[K     |██                              | 71kB 26.9MB/s eta 0:00:01\r\u001b[K     |██▍                             | 81kB 23.5MB/s eta 0:00:01\r\u001b[K     |██▊                             | 92kB 22.9MB/s eta 0:00:01\r\u001b[K     |███                             | 102kB 23.0MB/s eta 0:00:01\r\u001b[K     |███▎                            | 112kB 23.0MB/s eta 0:00:01\r\u001b[K     |███▋                            | 122kB 23.0MB/s eta 0:00:01\r\u001b[K     |███▉                            | 133kB 23.0MB/s eta 0:00:01\r\u001b[K     |████▏                           | 143kB 23.0MB/s eta 0:00:01\r\u001b[K     |████▌                           | 153kB 23.0MB/s eta 0:00:01\r\u001b[K     |████▊                           | 163kB 23.0MB/s eta 0:00:01\r\u001b[K     |█████                           | 174kB 23.0MB/s eta 0:00:01\r\u001b[K     |█████▍                          | 184kB 23.0MB/s eta 0:00:01\r\u001b[K     |█████▋                          | 194kB 23.0MB/s eta 0:00:01\r\u001b[K     |██████                          | 204kB 23.0MB/s eta 0:00:01\r\u001b[K     |██████▎                         | 215kB 23.0MB/s eta 0:00:01\r\u001b[K     |██████▌                         | 225kB 23.0MB/s eta 0:00:01\r\u001b[K     |██████▉                         | 235kB 23.0MB/s eta 0:00:01\r\u001b[K     |███████▏                        | 245kB 23.0MB/s eta 0:00:01\r\u001b[K     |███████▌                        | 256kB 23.0MB/s eta 0:00:01\r\u001b[K     |███████▊                        | 266kB 23.0MB/s eta 0:00:01\r\u001b[K     |████████                        | 276kB 23.0MB/s eta 0:00:01\r\u001b[K     |████████▍                       | 286kB 23.0MB/s eta 0:00:01\r\u001b[K     |████████▋                       | 296kB 23.0MB/s eta 0:00:01\r\u001b[K     |█████████                       | 307kB 23.0MB/s eta 0:00:01\r\u001b[K     |█████████▎                      | 317kB 23.0MB/s eta 0:00:01\r\u001b[K     |█████████▌                      | 327kB 23.0MB/s eta 0:00:01\r\u001b[K     |█████████▉                      | 337kB 23.0MB/s eta 0:00:01\r\u001b[K     |██████████▏                     | 348kB 23.0MB/s eta 0:00:01\r\u001b[K     |██████████▍                     | 358kB 23.0MB/s eta 0:00:01\r\u001b[K     |██████████▊                     | 368kB 23.0MB/s eta 0:00:01\r\u001b[K     |███████████                     | 378kB 23.0MB/s eta 0:00:01\r\u001b[K     |███████████▎                    | 389kB 23.0MB/s eta 0:00:01\r\u001b[K     |███████████▋                    | 399kB 23.0MB/s eta 0:00:01\r\u001b[K     |████████████                    | 409kB 23.0MB/s eta 0:00:01\r\u001b[K     |████████████▏                   | 419kB 23.0MB/s eta 0:00:01\r\u001b[K     |████████████▌                   | 430kB 23.0MB/s eta 0:00:01\r\u001b[K     |████████████▉                   | 440kB 23.0MB/s eta 0:00:01\r\u001b[K     |█████████████                   | 450kB 23.0MB/s eta 0:00:01\r\u001b[K     |█████████████▍                  | 460kB 23.0MB/s eta 0:00:01\r\u001b[K     |█████████████▊                  | 471kB 23.0MB/s eta 0:00:01\r\u001b[K     |██████████████                  | 481kB 23.0MB/s eta 0:00:01\r\u001b[K     |██████████████▎                 | 491kB 23.0MB/s eta 0:00:01\r\u001b[K     |██████████████▋                 | 501kB 23.0MB/s eta 0:00:01\r\u001b[K     |███████████████                 | 512kB 23.0MB/s eta 0:00:01\r\u001b[K     |███████████████▏                | 522kB 23.0MB/s eta 0:00:01\r\u001b[K     |███████████████▌                | 532kB 23.0MB/s eta 0:00:01\r\u001b[K     |███████████████▉                | 542kB 23.0MB/s eta 0:00:01\r\u001b[K     |████████████████                | 552kB 23.0MB/s eta 0:00:01\r\u001b[K     |████████████████▍               | 563kB 23.0MB/s eta 0:00:01\r\u001b[K     |████████████████▊               | 573kB 23.0MB/s eta 0:00:01\r\u001b[K     |█████████████████               | 583kB 23.0MB/s eta 0:00:01\r\u001b[K     |█████████████████▎              | 593kB 23.0MB/s eta 0:00:01\r\u001b[K     |█████████████████▋              | 604kB 23.0MB/s eta 0:00:01\r\u001b[K     |█████████████████▉              | 614kB 23.0MB/s eta 0:00:01\r\u001b[K     |██████████████████▏             | 624kB 23.0MB/s eta 0:00:01\r\u001b[K     |██████████████████▌             | 634kB 23.0MB/s eta 0:00:01\r\u001b[K     |██████████████████▊             | 645kB 23.0MB/s eta 0:00:01\r\u001b[K     |███████████████████             | 655kB 23.0MB/s eta 0:00:01\r\u001b[K     |███████████████████▍            | 665kB 23.0MB/s eta 0:00:01\r\u001b[K     |███████████████████▋            | 675kB 23.0MB/s eta 0:00:01\r\u001b[K     |████████████████████            | 686kB 23.0MB/s eta 0:00:01\r\u001b[K     |████████████████████▎           | 696kB 23.0MB/s eta 0:00:01\r\u001b[K     |████████████████████▌           | 706kB 23.0MB/s eta 0:00:01\r\u001b[K     |████████████████████▉           | 716kB 23.0MB/s eta 0:00:01\r\u001b[K     |█████████████████████▏          | 727kB 23.0MB/s eta 0:00:01\r\u001b[K     |█████████████████████▍          | 737kB 23.0MB/s eta 0:00:01\r\u001b[K     |█████████████████████▊          | 747kB 23.0MB/s eta 0:00:01\r\u001b[K     |██████████████████████          | 757kB 23.0MB/s eta 0:00:01\r\u001b[K     |██████████████████████▍         | 768kB 23.0MB/s eta 0:00:01\r\u001b[K     |██████████████████████▋         | 778kB 23.0MB/s eta 0:00:01\r\u001b[K     |███████████████████████         | 788kB 23.0MB/s eta 0:00:01\r\u001b[K     |███████████████████████▎        | 798kB 23.0MB/s eta 0:00:01\r\u001b[K     |███████████████████████▌        | 808kB 23.0MB/s eta 0:00:01\r\u001b[K     |███████████████████████▉        | 819kB 23.0MB/s eta 0:00:01\r\u001b[K     |████████████████████████▏       | 829kB 23.0MB/s eta 0:00:01\r\u001b[K     |████████████████████████▍       | 839kB 23.0MB/s eta 0:00:01\r\u001b[K     |████████████████████████▊       | 849kB 23.0MB/s eta 0:00:01\r\u001b[K     |█████████████████████████       | 860kB 23.0MB/s eta 0:00:01\r\u001b[K     |█████████████████████████▎      | 870kB 23.0MB/s eta 0:00:01\r\u001b[K     |█████████████████████████▋      | 880kB 23.0MB/s eta 0:00:01\r\u001b[K     |██████████████████████████      | 890kB 23.0MB/s eta 0:00:01\r\u001b[K     |██████████████████████████▏     | 901kB 23.0MB/s eta 0:00:01\r\u001b[K     |██████████████████████████▌     | 911kB 23.0MB/s eta 0:00:01\r\u001b[K     |██████████████████████████▉     | 921kB 23.0MB/s eta 0:00:01\r\u001b[K     |███████████████████████████     | 931kB 23.0MB/s eta 0:00:01\r\u001b[K     |███████████████████████████▍    | 942kB 23.0MB/s eta 0:00:01\r\u001b[K     |███████████████████████████▊    | 952kB 23.0MB/s eta 0:00:01\r\u001b[K     |████████████████████████████    | 962kB 23.0MB/s eta 0:00:01\r\u001b[K     |████████████████████████████▎   | 972kB 23.0MB/s eta 0:00:01\r\u001b[K     |████████████████████████████▋   | 983kB 23.0MB/s eta 0:00:01\r\u001b[K     |████████████████████████████▉   | 993kB 23.0MB/s eta 0:00:01\r\u001b[K     |█████████████████████████████▏  | 1.0MB 23.0MB/s eta 0:00:01\r\u001b[K     |█████████████████████████████▌  | 1.0MB 23.0MB/s eta 0:00:01\r\u001b[K     |█████████████████████████████▉  | 1.0MB 23.0MB/s eta 0:00:01\r\u001b[K     |██████████████████████████████  | 1.0MB 23.0MB/s eta 0:00:01\r\u001b[K     |██████████████████████████████▍ | 1.0MB 23.0MB/s eta 0:00:01\r\u001b[K     |██████████████████████████████▊ | 1.1MB 23.0MB/s eta 0:00:01\r\u001b[K     |███████████████████████████████ | 1.1MB 23.0MB/s eta 0:00:01\r\u001b[K     |███████████████████████████████▎| 1.1MB 23.0MB/s eta 0:00:01\r\u001b[K     |███████████████████████████████▋| 1.1MB 23.0MB/s eta 0:00:01\r\u001b[K     |███████████████████████████████▉| 1.1MB 23.0MB/s eta 0:00:01\r\u001b[K     |████████████████████████████████| 1.1MB 23.0MB/s \n",
            "\u001b[?25hRequirement already satisfied, skipping upgrade: typeguard>=2.7 in /usr/local/lib/python3.6/dist-packages (from tensorflow_addons) (2.7.1)\n",
            "Installing collected packages: tensorflow-addons\n",
            "  Found existing installation: tensorflow-addons 0.8.3\n",
            "    Uninstalling tensorflow-addons-0.8.3:\n",
            "      Successfully uninstalled tensorflow-addons-0.8.3\n",
            "Successfully installed tensorflow-addons-0.11.2\n"
          ],
          "name": "stdout"
        }
      ]
    },
    {
      "cell_type": "code",
      "metadata": {
        "id": "WdNUmVLaO-WM",
        "colab": {
          "base_uri": "https://localhost:8080/"
        },
        "outputId": "3c1e9421-05cd-4190-f08b-649c765f3787"
      },
      "source": [
        "import tensorflow as tf\n",
        "from tensorflow import keras\n",
        "import tensorflow.keras.layers as L\n",
        "import tensorflow_addons as tfa\n",
        "import numpy as np\n",
        "import pandas as pd\n",
        "import matplotlib.pyplot as plt\n",
        "\n",
        "from sklearn.preprocessing import StandardScaler\n",
        "from sklearn.preprocessing import MultiLabelBinarizer\n",
        "from sklearn.model_selection import train_test_split\n",
        "from sklearn.metrics import fbeta_score\n",
        "\n",
        "from google.colab import drive \n",
        "drive.mount('/drive')"
      ],
      "execution_count": null,
      "outputs": [
        {
          "output_type": "stream",
          "text": [
            "Drive already mounted at /drive; to attempt to forcibly remount, call drive.mount(\"/drive\", force_remount=True).\n"
          ],
          "name": "stdout"
        }
      ]
    },
    {
      "cell_type": "code",
      "metadata": {
        "id": "DPjyTvulSVtK"
      },
      "source": [
        "! tar zxf /drive/MyDrive/CSC594/Data/Image/imet.tar.gz -C /content/"
      ],
      "execution_count": null,
      "outputs": []
    },
    {
      "cell_type": "code",
      "metadata": {
        "id": "ZbgLmXuJPYCm"
      },
      "source": [
        "def to_int_labels(str_labels,delimiter=' '):\n",
        "  '''\n",
        "  Transform string of integers\n",
        "  seperated by delimiter to \n",
        "  list of integers\n",
        "\n",
        "  Args:\n",
        "    str_labels: str\n",
        "    delimiter: char\n",
        "  '''\n",
        "  x = str_labels.split(delimiter)\n",
        "  x = list(map(lambda x: int(x.strip()),x))\n",
        "  return x \n",
        "\n",
        "\n",
        "@tf.function\n",
        "def smart_resize(img,size=244):\n",
        "  h,w = tf.shape(img)[0], tf.shape(img)[1]\n",
        "  min_dim = tf.minimum(h,w)\n",
        "  ratio = size / tf.cast(min_dim,tf.float32) \n",
        "\n",
        "  new_w = tf.cast(w,tf.float32) * ratio\n",
        "  new_h = tf.cast(h,tf.float32) * ratio\n",
        "\n",
        "  img = tf.image.resize(img,[new_h,new_w],preserve_aspect_ratio=True)\n",
        "  img = tf.image.resize_with_crop_or_pad(img,size,size)\n",
        "  return img\n",
        "\n",
        "\n",
        "\n",
        "@tf.function\n",
        "def img_preprocess(fpath):\n",
        "  '''\n",
        "  Load and Preprocess JPEG IMG \n",
        "  from file path\n",
        "\n",
        "  Args:\n",
        "    fpath: str\n",
        "  Returns:\n",
        "    tf.tensor \n",
        "      - shape (244,244,3)\n",
        "  '''\n",
        "  img = tf.io.read_file(fpath)\n",
        "  img = tf.image.decode_jpeg(img,3)\n",
        "  img = tf.cast(img,tf.float32)\n",
        "\n",
        "  img = smart_resize(img,244)\n",
        "  #img = tf.image.resize_with_crop_or_pad(img,244,244)\n",
        "\n",
        "  img /= (255/2)\n",
        "  img -= 1 \n",
        "  return img "
      ],
      "execution_count": null,
      "outputs": []
    },
    {
      "cell_type": "markdown",
      "metadata": {
        "id": "EQRIJ9lVazJo"
      },
      "source": [
        "## ResNet Implementation"
      ]
    },
    {
      "cell_type": "code",
      "metadata": {
        "id": "Z2kf8GM_UkWD"
      },
      "source": [
        "class ResNetBlock(L.Layer):\n",
        "  def __init__(self,n_filters,regularizer=keras.regularizers.L2(1e-3),activation=L.ReLU,start=False,downsample=False):\n",
        "    super(ResNetBlock,self).__init__()\n",
        "    self.regularizer = regularizer\n",
        "    self.activation = activation\n",
        "    self.n_filters = n_filters\n",
        "    self.start = start\n",
        "    self.stride = 2 if downsample else 1\n",
        "\n",
        "\n",
        "    self.left_path = keras.Sequential(\n",
        "        [\n",
        "          L.Conv2D(self.n_filters,1,self.stride,padding='same',kernel_regularizer=self.regularizer),\n",
        "          L.BatchNormalization(),\n",
        "          self.activation(),\n",
        "          L.Conv2D(self.n_filters,3,1,padding='same',kernel_regularizer=self.regularizer),\n",
        "          L.BatchNormalization(),\n",
        "          self.activation(),\n",
        "          L.Conv2D(self.n_filters*4,1,1,padding='same',kernel_regularizer=self.regularizer),\n",
        "          L.BatchNormalization()\n",
        "        ]\n",
        "    )\n",
        "  \n",
        "\n",
        "    \n",
        "    if self.start:\n",
        "      self.right_path = keras.Sequential(\n",
        "          [\n",
        "           L.Conv2D(self.n_filters*4,1,self.stride,'same',kernel_regularizer=self.regularizer),\n",
        "           L.BatchNormalization()\n",
        "          ]\n",
        "      )\n",
        "\n",
        "    \n",
        "\n",
        "  def call(self,input_tensor,training=False):\n",
        "    x = self.left_path(input_tensor)\n",
        "    if self.start:\n",
        "      y = self.right_path(input_tensor)\n",
        "    else:\n",
        "      y = input_tensor\n",
        "\n",
        "    z = tf.add(x,y)\n",
        "    return self.activation()(z)\n",
        "      \n",
        "\n",
        "\n",
        "class ResNetStack(L.Layer):\n",
        "  def __init__(self,n_blocks,n_filters,first_block=False,**kwargs):\n",
        "    super(ResNetStack,self).__init__()\n",
        "    blocks = [ ResNetBlock(n_filters,start=(not i),downsample=(not i and not first_block),**kwargs) for i in range(n_blocks)]\n",
        "    self.stack = keras.Sequential(\n",
        "        blocks\n",
        "    )\n",
        "    self.out_dim = n_filters * 4\n",
        "\n",
        "  def call(self,input_tensor,training=False):\n",
        "\n",
        "    return self.stack(input_tensor) \n",
        "\n",
        "def ResNet(n_layers,width=1,input_shape=None,**kwargs):\n",
        "    if n_layers not in [50,101,152]:\n",
        "      raise ValueError\n",
        "    \n",
        "    model = keras.Sequential([\n",
        "        L.Input(input_shape),\n",
        "        L.Conv2D(64,7,2,padding='same'),\n",
        "        L.BatchNormalization(),\n",
        "        L.ReLU(),\n",
        "        L.MaxPool2D(3,2,'same')\n",
        "        \n",
        "    ],name=f'ResNet{n_layers}')\n",
        "\n",
        "    model_specs = {\n",
        "        50: [3,4,6,3],\n",
        "        101: [3,4,23,3],\n",
        "        152: [3,8,36,3]\n",
        "    }\n",
        "    filters = list(map(lambda x: x*width,[64,128,256,512]))\n",
        "\n",
        "    for i,(stack,f) in enumerate(zip(model_specs[n_layers],filters)):\n",
        "      if i == 0:\n",
        "        stack = ResNetStack(stack,f,first_block=True)\n",
        "      else:\n",
        "        stack = ResNetStack(stack,f,first_block=False)\n",
        "      model.add(stack)\n",
        "    model.add(L.GlobalAveragePooling2D())\n",
        "    return model"
      ],
      "execution_count": null,
      "outputs": []
    },
    {
      "cell_type": "markdown",
      "metadata": {
        "id": "G1ArjndKf544"
      },
      "source": [
        "## Load Datasets paths and labels"
      ]
    },
    {
      "cell_type": "code",
      "metadata": {
        "id": "mFL5act7SSTu"
      },
      "source": [
        "# Read Metadata for iMet dataset\n",
        "df_train = pd.read_csv('/drive/My Drive/CSC594/Data/imet_train_split.csv')\n",
        "\n",
        "# Transform image ids to absolute file path of image\n",
        "train_paths = '/content/imet_reduced/train/' + df_train.id + '.jpg'\n",
        "\n",
        "# Extract labels and transform from strings to list of ints\n",
        "y_train = df_train.attribute_ids.map(to_int_labels).to_list()\n",
        "\n",
        "# Transform to Binary Matrix\n",
        "label_encoder = MultiLabelBinarizer()\n",
        "y_train = label_encoder.fit_transform(y_train)\n",
        "y_train = y_train.astype(np.float32)\n",
        "n_train_samples, n_classes = y_train.shape"
      ],
      "execution_count": null,
      "outputs": []
    },
    {
      "cell_type": "code",
      "metadata": {
        "id": "jWz93-Pg_ibh",
        "colab": {
          "base_uri": "https://localhost:8080/"
        },
        "outputId": "f94d8241-ab50-4117-967c-8b1521435663"
      },
      "source": [
        "# Read Metadata for iMet dataset\n",
        "df_test = pd.read_csv('/drive/My Drive/CSC594/Data/imet_test_split.csv')\n",
        "\n",
        "# Transform image ids to absolute file path of image\n",
        "test_paths = '/content/imet_reduced/train/' + df_test.id + '.jpg'\n",
        "\n",
        "# Extract labels and transform from strings to list of ints\n",
        "y_test = df_test.attribute_ids.map(to_int_labels).to_list()\n",
        "y_test = label_encoder.transform(y_test)\n",
        "n_test_samples = y_test.shape[0]"
      ],
      "execution_count": null,
      "outputs": [
        {
          "output_type": "stream",
          "text": [
            "/usr/local/lib/python3.6/dist-packages/sklearn/preprocessing/_label.py:987: UserWarning: unknown class(es) [328] will be ignored\n",
            "  .format(sorted(unknown, key=str)))\n"
          ],
          "name": "stderr"
        }
      ]
    },
    {
      "cell_type": "markdown",
      "metadata": {
        "id": "7JkGiRdzgBBV"
      },
      "source": [
        "## Load Pre-trained Model"
      ]
    },
    {
      "cell_type": "code",
      "metadata": {
        "id": "c5rRitzpL3vb",
        "colab": {
          "base_uri": "https://localhost:8080/"
        },
        "outputId": "4068cf2e-dcee-4806-f3ff-47299774ee8d"
      },
      "source": [
        "\n",
        "# Download and extract model\n",
        "model_url = 'https://rosspollock.design/models/resnet50120.tar.gz'\n",
        "keras.utils.get_file('modelx',model_url,untar=True,extract=True)\n",
        "encoder = keras.models.load_model('/root/.keras/datasets/query_encoder120k')\n",
        "cnn_name = encoder.layers[0].name\n",
        "encoder = encoder.get_layer(cnn_name)\n",
        "if encoder.name == 'ResNet50':\n",
        "  new_encoder = ResNet(50,2,input_shape=(244,244,3))\n",
        "  new_encoder.set_weights(encoder.get_weights())\n",
        "  encoder = new_encoder \n",
        "  del new_encoder\n",
        "_, rep_dim = encoder.output_shape"
      ],
      "execution_count": null,
      "outputs": [
        {
          "output_type": "stream",
          "text": [
            "WARNING:tensorflow:No training configuration found in save file, so the model was *not* compiled. Compile it manually.\n"
          ],
          "name": "stdout"
        }
      ]
    },
    {
      "cell_type": "code",
      "metadata": {
        "id": "uLEEBkKf_2pd"
      },
      "source": [
        "def prep_ds(file_paths,preprocesser=img_preprocess,batch_size=128):\n",
        "  ds = tf.data.Dataset.from_tensor_slices(file_paths)\n",
        "  ds = ds.map(preprocesser,tf.data.experimental.AUTOTUNE)\n",
        "  ds = ds.batch(batch_size)\n",
        "  return ds\n",
        "\n",
        "def prep_with_labels(file_paths,labels,preprocesser=img_preprocess,batch_size=128,train=False,repeat=False):\n",
        "  ds_img = tf.data.Dataset.from_tensor_slices(file_paths)\n",
        "  ds_img = ds_img.map(preprocesser,tf.data.experimental.AUTOTUNE)\n",
        "  ds_labels = tf.data.Dataset.from_tensor_slices(labels)\n",
        "  ds = tf.data.Dataset.zip((ds_img,ds_labels))\n",
        "  if train:\n",
        "    ds = ds.shuffle(1000)\n",
        "  ds = ds.batch(batch_size)\n",
        "  if repeat:\n",
        "    ds = ds.repeat()\n",
        "  return ds"
      ],
      "execution_count": null,
      "outputs": []
    },
    {
      "cell_type": "markdown",
      "metadata": {
        "id": "lOhpZjPDgIB5"
      },
      "source": [
        "## Extract Representations "
      ]
    },
    {
      "cell_type": "code",
      "metadata": {
        "id": "GiOrgEtLcoex"
      },
      "source": [
        "ds_train = prep_ds(train_paths)\n",
        "ds_test = prep_ds(test_paths)"
      ],
      "execution_count": null,
      "outputs": []
    },
    {
      "cell_type": "code",
      "metadata": {
        "id": "LagioLCpBXLJ"
      },
      "source": [
        "x_train = np.zeros((n_train_samples,rep_dim))\n",
        "x_test = np.zeros((n_test_samples,rep_dim))"
      ],
      "execution_count": null,
      "outputs": []
    },
    {
      "cell_type": "code",
      "metadata": {
        "id": "Tw2tYVQBBsnA",
        "colab": {
          "base_uri": "https://localhost:8080/"
        },
        "outputId": "6a14ed45-8ced-48c2-d2b9-8543724734c0"
      },
      "source": [
        "BATCH_SIZE=128\n",
        "pbar = keras.utils.Progbar(n_train_samples // BATCH_SIZE + 1 )\n",
        "for i, batch in enumerate(ds_train):\n",
        "  reps = encoder(batch,training=False)\n",
        "  x_train[i*BATCH_SIZE:(i+1)*BATCH_SIZE,:] = reps.numpy()\n",
        "  pbar.update(i+1)\n",
        "\n",
        "pbar = keras.utils.Progbar(n_test_samples // BATCH_SIZE + 1 )\n",
        "for i, batch in enumerate(ds_test):\n",
        "  reps = encoder(batch,training=False)\n",
        "  x_test[i*BATCH_SIZE:(i+1)*BATCH_SIZE,:] = reps.numpy()\n",
        "  pbar.update(i+1)"
      ],
      "execution_count": null,
      "outputs": [
        {
          "output_type": "stream",
          "text": [
            "683/683 [==============================] - 925s 1s/step\n",
            "171/171 [==============================] - 230s 1s/step\n"
          ],
          "name": "stdout"
        }
      ]
    },
    {
      "cell_type": "markdown",
      "metadata": {
        "id": "SVfKtdl4gLN5"
      },
      "source": [
        "## Fit Classifier"
      ]
    },
    {
      "cell_type": "code",
      "metadata": {
        "id": "GL5RqxnKOAep"
      },
      "source": [
        "scaler = StandardScaler()\n",
        "x_train = scaler.fit_transform(x_train)\n",
        "x_test = scaler.transform(x_test)"
      ],
      "execution_count": null,
      "outputs": []
    },
    {
      "cell_type": "code",
      "metadata": {
        "id": "jb4S5-gTCP1B",
        "colab": {
          "base_uri": "https://localhost:8080/"
        },
        "outputId": "24504261-ee32-48a0-fae9-3007f5b2ac33"
      },
      "source": [
        "\n",
        "\n",
        "multilabel_clf = keras.Sequential(\n",
        "    [\n",
        "    keras.layers.Input(shape=(rep_dim,)),\n",
        "    keras.layers.Dense(n_classes,'sigmoid')\n",
        "    ]\n",
        ")\n",
        "\n",
        "multilabel_clf.compile(\n",
        "    keras.optimizers.Adam(1e-3),\n",
        "    tfa.losses.SigmoidFocalCrossEntropy()\n",
        ")\n",
        "\n",
        "\n",
        "history = multilabel_clf.fit(x_train,y_train,epochs=50,verbose=1,validation_split=0.2)"
      ],
      "execution_count": null,
      "outputs": [
        {
          "output_type": "stream",
          "text": [
            "Epoch 1/50\n",
            "2185/2185 [==============================] - 8s 4ms/step - loss: 44.4770 - val_loss: 11.0358\n",
            "Epoch 2/50\n",
            "2185/2185 [==============================] - 7s 3ms/step - loss: 5.9124 - val_loss: 3.2160\n",
            "Epoch 3/50\n",
            "2185/2185 [==============================] - 7s 3ms/step - loss: 2.3304 - val_loss: 1.7917\n",
            "Epoch 4/50\n",
            "2185/2185 [==============================] - 7s 3ms/step - loss: 1.5699 - val_loss: 1.4423\n",
            "Epoch 5/50\n",
            "2185/2185 [==============================] - 7s 3ms/step - loss: 1.3669 - val_loss: 1.3500\n",
            "Epoch 6/50\n",
            "2185/2185 [==============================] - 7s 3ms/step - loss: 1.3042 - val_loss: 1.3262\n",
            "Epoch 7/50\n",
            "2185/2185 [==============================] - 7s 3ms/step - loss: 1.2797 - val_loss: 1.3215\n",
            "Epoch 8/50\n",
            "2185/2185 [==============================] - 7s 3ms/step - loss: 1.2664 - val_loss: 1.3169\n",
            "Epoch 9/50\n",
            "2185/2185 [==============================] - 7s 3ms/step - loss: 1.2572 - val_loss: 1.3163\n",
            "Epoch 10/50\n",
            "2185/2185 [==============================] - 7s 3ms/step - loss: 1.2509 - val_loss: 1.3217\n",
            "Epoch 11/50\n",
            "2185/2185 [==============================] - 7s 3ms/step - loss: 1.2457 - val_loss: 1.3214\n",
            "Epoch 12/50\n",
            "2185/2185 [==============================] - 7s 3ms/step - loss: 1.2409 - val_loss: 1.3227\n",
            "Epoch 13/50\n",
            "2185/2185 [==============================] - 7s 3ms/step - loss: 1.2368 - val_loss: 1.3287\n",
            "Epoch 14/50\n",
            "2185/2185 [==============================] - 7s 3ms/step - loss: 1.2341 - val_loss: 1.3268\n",
            "Epoch 15/50\n",
            "2185/2185 [==============================] - 7s 3ms/step - loss: 1.2320 - val_loss: 1.3284\n",
            "Epoch 16/50\n",
            "2185/2185 [==============================] - 7s 3ms/step - loss: 1.2289 - val_loss: 1.3297\n",
            "Epoch 17/50\n",
            "2185/2185 [==============================] - 7s 3ms/step - loss: 1.2267 - val_loss: 1.3311\n",
            "Epoch 18/50\n",
            "2185/2185 [==============================] - 7s 3ms/step - loss: 1.2249 - val_loss: 1.3356\n",
            "Epoch 19/50\n",
            "2185/2185 [==============================] - 7s 3ms/step - loss: 1.2227 - val_loss: 1.3356\n",
            "Epoch 20/50\n",
            "2185/2185 [==============================] - 7s 3ms/step - loss: 1.2212 - val_loss: 1.3365\n",
            "Epoch 21/50\n",
            "2185/2185 [==============================] - 7s 3ms/step - loss: 1.2197 - val_loss: 1.3359\n",
            "Epoch 22/50\n",
            "2185/2185 [==============================] - 7s 3ms/step - loss: 1.2183 - val_loss: 1.3426\n",
            "Epoch 23/50\n",
            "2185/2185 [==============================] - 7s 3ms/step - loss: 1.2171 - val_loss: 1.3410\n",
            "Epoch 24/50\n",
            "2185/2185 [==============================] - 7s 3ms/step - loss: 1.2159 - val_loss: 1.3410\n",
            "Epoch 25/50\n",
            "2185/2185 [==============================] - 7s 3ms/step - loss: 1.2142 - val_loss: 1.3420\n",
            "Epoch 26/50\n",
            "2185/2185 [==============================] - 7s 3ms/step - loss: 1.2137 - val_loss: 1.3465\n",
            "Epoch 27/50\n",
            "2185/2185 [==============================] - 7s 3ms/step - loss: 1.2127 - val_loss: 1.3473\n",
            "Epoch 28/50\n",
            "2185/2185 [==============================] - 7s 3ms/step - loss: 1.2113 - val_loss: 1.3472\n",
            "Epoch 29/50\n",
            "2185/2185 [==============================] - 7s 3ms/step - loss: 1.2113 - val_loss: 1.3497\n",
            "Epoch 30/50\n",
            "2185/2185 [==============================] - 7s 3ms/step - loss: 1.2097 - val_loss: 1.3468\n",
            "Epoch 31/50\n",
            "2185/2185 [==============================] - 7s 3ms/step - loss: 1.2086 - val_loss: 1.3525\n",
            "Epoch 32/50\n",
            "2185/2185 [==============================] - 7s 3ms/step - loss: 1.2084 - val_loss: 1.3563\n",
            "Epoch 33/50\n",
            "2185/2185 [==============================] - 7s 3ms/step - loss: 1.2077 - val_loss: 1.3510\n",
            "Epoch 34/50\n",
            "2185/2185 [==============================] - 7s 3ms/step - loss: 1.2073 - val_loss: 1.3569\n",
            "Epoch 35/50\n",
            "2185/2185 [==============================] - 7s 3ms/step - loss: 1.2065 - val_loss: 1.3553\n",
            "Epoch 36/50\n",
            "2185/2185 [==============================] - 7s 3ms/step - loss: 1.2054 - val_loss: 1.3590\n",
            "Epoch 37/50\n",
            "2185/2185 [==============================] - 7s 3ms/step - loss: 1.2049 - val_loss: 1.3583\n",
            "Epoch 38/50\n",
            "2185/2185 [==============================] - 7s 3ms/step - loss: 1.2042 - val_loss: 1.3582\n",
            "Epoch 39/50\n",
            "2185/2185 [==============================] - 7s 3ms/step - loss: 1.2030 - val_loss: 1.3583\n",
            "Epoch 40/50\n",
            "2185/2185 [==============================] - 8s 4ms/step - loss: 1.2033 - val_loss: 1.3627\n",
            "Epoch 41/50\n",
            "2185/2185 [==============================] - 7s 3ms/step - loss: 1.2025 - val_loss: 1.3637\n",
            "Epoch 42/50\n",
            "2185/2185 [==============================] - 7s 3ms/step - loss: 1.2027 - val_loss: 1.3633\n",
            "Epoch 43/50\n",
            "2185/2185 [==============================] - 7s 3ms/step - loss: 1.2024 - val_loss: 1.3653\n",
            "Epoch 44/50\n",
            "2185/2185 [==============================] - 7s 3ms/step - loss: 1.2015 - val_loss: 1.3654\n",
            "Epoch 45/50\n",
            "2185/2185 [==============================] - 7s 3ms/step - loss: 1.2011 - val_loss: 1.3690\n",
            "Epoch 46/50\n",
            "2185/2185 [==============================] - 7s 3ms/step - loss: 1.2008 - val_loss: 1.3657\n",
            "Epoch 47/50\n",
            "2185/2185 [==============================] - 7s 3ms/step - loss: 1.2000 - val_loss: 1.3694\n",
            "Epoch 48/50\n",
            "2185/2185 [==============================] - 7s 3ms/step - loss: 1.2000 - val_loss: 1.3701\n",
            "Epoch 49/50\n",
            "2185/2185 [==============================] - 7s 3ms/step - loss: 1.1995 - val_loss: 1.3692\n",
            "Epoch 50/50\n",
            "2185/2185 [==============================] - 7s 3ms/step - loss: 1.1988 - val_loss: 1.3703\n"
          ],
          "name": "stdout"
        }
      ]
    },
    {
      "cell_type": "markdown",
      "metadata": {
        "id": "s17I-O8lgSJO"
      },
      "source": [
        "## Evaluate Test Set Metrics"
      ]
    },
    {
      "cell_type": "code",
      "metadata": {
        "id": "EWgGYwQ5R_pb"
      },
      "source": [
        "y_pred = multilabel_clf.predict(x_test)"
      ],
      "execution_count": null,
      "outputs": []
    },
    {
      "cell_type": "code",
      "metadata": {
        "colab": {
          "base_uri": "https://localhost:8080/"
        },
        "id": "LRJpZZTSc-EM",
        "outputId": "acbd3233-f13a-4a75-e862-43168b34efa7"
      },
      "source": [
        "THRESHOLD = 0.20\n",
        "for weighting in ['micro','macro','samples']:\n",
        "  y_pred_t = (y_pred >= THRESHOLD).astype(np.int32)\n",
        "  fscore = fbeta_score(y_test,y_pred_t,beta=2.0,average=weighting,zero_division=0)\n",
        "  print(f'F2 {weighting} score: {fscore:.4f}')"
      ],
      "execution_count": null,
      "outputs": [
        {
          "output_type": "stream",
          "text": [
            "F2 micro score: 0.3360\n",
            "F2 macro score: 0.1011\n",
            "F2 samples score: 0.3325\n"
          ],
          "name": "stdout"
        }
      ]
    }
  ]
}