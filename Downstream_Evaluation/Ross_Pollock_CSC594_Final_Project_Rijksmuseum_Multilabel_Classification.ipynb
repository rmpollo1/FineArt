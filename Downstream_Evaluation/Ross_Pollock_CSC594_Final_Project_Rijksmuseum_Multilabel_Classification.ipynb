{
  "nbformat": 4,
  "nbformat_minor": 0,
  "metadata": {
    "colab": {
      "name": "Ross_Pollock_CSC594_Final_Project_Rijksmuseum_Multilabel_Classification.ipynb",
      "provenance": [],
      "collapsed_sections": []
    },
    "kernelspec": {
      "name": "python3",
      "display_name": "Python 3"
    },
    "accelerator": "GPU"
  },
  "cells": [
    {
      "cell_type": "markdown",
      "metadata": {
        "id": "DW0YYaJseYUQ"
      },
      "source": [
        "# Final Project: Rijksmuseum Multi-label Classification Tasks\n",
        "## CSC 594: Advanced Deep Learning\n",
        "## Ross Pollock"
      ]
    },
    {
      "cell_type": "code",
      "metadata": {
        "id": "uOmvY-wIHPag",
        "colab": {
          "base_uri": "https://localhost:8080/"
        },
        "outputId": "2ba98b7b-815c-4a64-c034-1b432b6217a0"
      },
      "source": [
        "import tensorflow as tf\n",
        "import tensorflow.keras as keras \n",
        "import tensorflow.keras.layers as L\n",
        "\n",
        "from tensorflow_addons.losses import SigmoidFocalCrossEntropy\n",
        "\n",
        "import numpy as np \n",
        "import pandas as pd \n",
        "\n",
        "import seaborn as sns\n",
        "import matplotlib.pyplot as plt\n",
        "import matplotlib.cm as cm\n",
        "\n",
        "from sklearn.preprocessing import LabelEncoder, StandardScaler\n",
        "from sklearn.preprocessing import MultiLabelBinarizer\n",
        "\n",
        "from sklearn.metrics import average_precision_score\n",
        "from functools import reduce\n",
        "from collections import  Counter\n",
        "from google.colab import drive\n",
        "drive.mount('/drive')"
      ],
      "execution_count": null,
      "outputs": [
        {
          "output_type": "stream",
          "text": [
            "Drive already mounted at /drive; to attempt to forcibly remount, call drive.mount(\"/drive\", force_remount=True).\n"
          ],
          "name": "stdout"
        }
      ]
    },
    {
      "cell_type": "code",
      "metadata": {
        "id": "BC_M1moKHq11"
      },
      "source": [
        "# Extract Data to local colab drive\n",
        "! tar xfz /drive/My\\ Drive/CSC594/Data/Image/Rijksmuseum.tar.gz -C /content/"
      ],
      "execution_count": null,
      "outputs": []
    },
    {
      "cell_type": "code",
      "metadata": {
        "id": "lDh3UjwOWE5E"
      },
      "source": [
        "\n",
        "\n",
        "'''\n",
        "Implementation of ResNet 50,101,152\n",
        "with optional width parameter for \n",
        "making wider ResNets\n",
        "'''\n",
        "\n",
        "class ResNetBlock(L.Layer):\n",
        "  def __init__(\n",
        "      self,n_filters,regularizer=keras.regularizers.L2(1e-3),\n",
        "      activation=L.ReLU,start=False,downsample=False\n",
        "    ):\n",
        "    super(ResNetBlock,self).__init__()\n",
        "    self.regularizer = regularizer\n",
        "    self.activation = activation\n",
        "    self.n_filters = n_filters\n",
        "    self.start = start\n",
        "    self.stride = 2 if downsample else 1\n",
        "\n",
        "\n",
        "    self.left_path = keras.Sequential(\n",
        "        [\n",
        "          L.Conv2D(self.n_filters,1,self.stride,padding='same',kernel_regularizer=self.regularizer),\n",
        "          L.BatchNormalization(),\n",
        "          self.activation(),\n",
        "          L.Conv2D(self.n_filters,3,1,padding='same',kernel_regularizer=self.regularizer),\n",
        "          L.BatchNormalization(),\n",
        "          self.activation(),\n",
        "          L.Conv2D(self.n_filters*4,1,1,padding='same',kernel_regularizer=self.regularizer),\n",
        "          L.BatchNormalization()\n",
        "        ]\n",
        "    )\n",
        "  \n",
        "    # If first block add convolution to residual path\n",
        "    # so that the number of output channels match\n",
        "    if self.start:\n",
        "      self.right_path = keras.Sequential(\n",
        "          [\n",
        "           L.Conv2D(self.n_filters*4,1,self.stride,'same',kernel_regularizer=self.regularizer),\n",
        "           L.BatchNormalization()\n",
        "          ]\n",
        "      )\n",
        "\n",
        "    \n",
        "\n",
        "  def call(self,input_tensor,training=False):\n",
        "    x = self.left_path(input_tensor)\n",
        "    if self.start:\n",
        "      y = self.right_path(input_tensor)\n",
        "    else:\n",
        "      y = input_tensor\n",
        "\n",
        "    z = tf.add(x,y)\n",
        "    return self.activation()(z)\n",
        "      \n",
        "\n",
        "class ResNetStack(L.Layer):\n",
        "  def __init__(self,\n",
        "      n_blocks,n_filters,\n",
        "      first_block=False,**kwargs\n",
        "    ):\n",
        "    super(ResNetStack,self).__init__()\n",
        "    blocks = [ \n",
        "      ResNetBlock(n_filters,start=(not i),downsample=(not i and not first_block),**kwargs) \n",
        "      for i in range(n_blocks)\n",
        "    ]\n",
        "    self.stack = keras.Sequential(\n",
        "        blocks\n",
        "    )\n",
        "    self.out_dim = n_filters * 4\n",
        "\n",
        "  def call(self,input_tensor,training=False):\n",
        "    return self.stack(input_tensor) \n",
        "\n",
        "def ResNet(n_layers,width=1,input_shape=None,**kwargs):\n",
        "    if n_layers not in [50,101,152]:\n",
        "      raise ValueError\n",
        "    \n",
        "    model = keras.Sequential([\n",
        "        L.Input(input_shape),\n",
        "        L.Conv2D(64,7,2,padding='same'),\n",
        "        L.BatchNormalization(),\n",
        "        L.ReLU(),\n",
        "        L.MaxPool2D(3,2,'same')\n",
        "        \n",
        "    ],name=f'ResNet{n_layers}')\n",
        "\n",
        "\n",
        "    model_specs = {\n",
        "        50: [3,4,6,3],\n",
        "        101: [3,4,23,3],\n",
        "        152: [3,8,36,3]\n",
        "    }\n",
        "    filters = list(map(lambda x: x*width,[64,128,256,512]))\n",
        "\n",
        "    for i,(stack,f) in enumerate(zip(model_specs[n_layers],filters)):\n",
        "      if i == 0:\n",
        "        stack = ResNetStack(stack,f,first_block=True)\n",
        "      else:\n",
        "        stack = ResNetStack(stack,f,first_block=False)\n",
        "      model.add(stack)\n",
        "    model.add(L.GlobalAveragePooling2D())\n",
        "    return model\n",
        "\n",
        "\n"
      ],
      "execution_count": null,
      "outputs": []
    },
    {
      "cell_type": "markdown",
      "metadata": {
        "id": "BMbjfNzthCK6"
      },
      "source": [
        "## Load Pretrained Model"
      ]
    },
    {
      "cell_type": "code",
      "metadata": {
        "colab": {
          "base_uri": "https://localhost:8080/"
        },
        "id": "sPeBm5AYIprs",
        "outputId": "f081337b-9770-4572-fa38-44f4ff150f60"
      },
      "source": [
        "model_url = 'https://rosspollock.design/models/resnet50x2_120k.tar.gz'\n",
        "keras.utils.get_file('modelx2120',model_url,untar=True,extract=True)\n",
        "encoder = keras.models.load_model('/root/.keras/datasets/query_encoder120k')\n",
        "encoder = encoder.get_layer('ResNet50')\n",
        "rep_dim = encoder.output_shape[1]"
      ],
      "execution_count": null,
      "outputs": [
        {
          "output_type": "stream",
          "text": [
            "WARNING:tensorflow:No training configuration found in save file, so the model was *not* compiled. Compile it manually.\n"
          ],
          "name": "stdout"
        }
      ]
    },
    {
      "cell_type": "code",
      "metadata": {
        "id": "YQzSgHRJWM4i"
      },
      "source": [
        "if encoder.name == 'ResNet50':\n",
        "  new_encoder = ResNet(50,2,input_shape=(244,244,3))\n",
        "  new_encoder.set_weights(encoder.get_weights())\n",
        "  encoder = new_encoder \n",
        "  del new_encoder"
      ],
      "execution_count": null,
      "outputs": []
    },
    {
      "cell_type": "code",
      "metadata": {
        "id": "Bxr9Y_rPL6EJ"
      },
      "source": [
        "@tf.function\n",
        "def smart_resize(img,size=244):\n",
        "  h,w = tf.shape(img)[0], tf.shape(img)[1]\n",
        "  min_dim = tf.minimum(h,w)\n",
        "  ratio = size / tf.cast(min_dim,tf.float32) \n",
        "\n",
        "  new_w = tf.cast(w,tf.float32) * ratio\n",
        "  new_h = tf.cast(h,tf.float32) * ratio\n",
        "\n",
        "  img = tf.image.resize(img,[new_h,new_w],preserve_aspect_ratio=True)\n",
        "  img = tf.image.resize_with_crop_or_pad(img,size,size)\n",
        "  return img\n",
        "\n",
        "@tf.function\n",
        "def img_preprocess(fpath):\n",
        "    img = tf.io.read_file(fpath)\n",
        "    img = tf.image.decode_jpeg(img,3)\n",
        "    img = tf.cast(img,tf.float32)\n",
        "    img = smart_resize(img,size=244)\n",
        "    img /= (255/2)\n",
        "    img -= 1 \n",
        "    return img "
      ],
      "execution_count": null,
      "outputs": []
    },
    {
      "cell_type": "markdown",
      "metadata": {
        "id": "db2VwGgzhT3R"
      },
      "source": [
        "## Load Metadata Files \n",
        "### Get Image Paths"
      ]
    },
    {
      "cell_type": "code",
      "metadata": {
        "id": "2rVAj6lmyeQ-"
      },
      "source": [
        "test_df = pd.read_csv('/drive/My Drive/CSC594/Data/Rijkmuseum_test_metadata.csv')\n",
        "train_df = pd.read_csv('/drive/My Drive/CSC594/Data/Rijkmuseum_train_metadata.csv')\n",
        "\n"
      ],
      "execution_count": null,
      "outputs": []
    },
    {
      "cell_type": "code",
      "metadata": {
        "id": "3wjgZ4oK0faa"
      },
      "source": [
        "train_paths = train_df.object_path.map(lambda x: '/content/smaller/'+x).to_list()\n",
        "test_paths = test_df.object_path.map(lambda x: '/content/smaller/'+x).to_list()"
      ],
      "execution_count": null,
      "outputs": []
    },
    {
      "cell_type": "markdown",
      "metadata": {
        "id": "XWmg0OJdhQqW"
      },
      "source": [
        "## Material Classification"
      ]
    },
    {
      "cell_type": "code",
      "metadata": {
        "id": "UHUE_iZbXYwH"
      },
      "source": [
        "train_materials = train_df['object_materials'].map(lambda x: str(x).split('|')).to_list()\n",
        "test_materials = test_df['object_materials'].map(lambda x: str(x).split('|')).to_list()"
      ],
      "execution_count": null,
      "outputs": []
    },
    {
      "cell_type": "code",
      "metadata": {
        "id": "uA2h4GpSip08"
      },
      "source": [
        "mat_counter = Counter()\n",
        "for mat_list in test_df['object_materials'].map(lambda x: str(x).split('|')).to_list():\n",
        "  mat_counter.update(mat_list)"
      ],
      "execution_count": null,
      "outputs": []
    },
    {
      "cell_type": "code",
      "metadata": {
        "id": "NJBTfjYTjM1z"
      },
      "source": [
        "material_classes = []\n",
        "for k, v in mat_counter.items():\n",
        "  if k == '': continue\n",
        "  if v > 10:\n",
        "    material_classes.append(k)"
      ],
      "execution_count": null,
      "outputs": []
    },
    {
      "cell_type": "code",
      "metadata": {
        "colab": {
          "base_uri": "https://localhost:8080/"
        },
        "id": "vXplwKR7XJJf",
        "outputId": "8ab16776-65e1-4d03-9b24-51c91ed3139f"
      },
      "source": [
        "Material_Biner = MultiLabelBinarizer(material_classes)\n",
        "train_materials = Material_Biner.fit_transform(train_materials)\n",
        "test_materials = Material_Biner.transform(test_materials)"
      ],
      "execution_count": null,
      "outputs": [
        {
          "output_type": "stream",
          "text": [
            "/usr/local/lib/python3.6/dist-packages/sklearn/preprocessing/_label.py:987: UserWarning: unknown class(es) ['', 'Berlijns zilver', 'Chinees papier', 'Delfts aardewerk', 'Engels aardewerk', 'Oost-Indische inkt', 'acaciahout', 'acajouhout', 'agaat', 'albast', 'aluminium', 'amalgaam', 'amboinahout', 'amethist', 'andesiet', 'atlas liseré', 'aventurienglas', 'baai (materiaal)', 'balein', 'bamboe', 'bandagaat', 'barnsteen', 'barokparel', 'been', 'beenderporselein', 'beits', 'berberishout', 'bergkristal', 'berkenhout', 'biscuit', 'bister', 'blaas', 'bladgoud', 'bladzilver', 'blanc de Chine', 'bloedkoraal', 'bolletriehout', 'bolus', 'bombazijn', 'bont', 'bordpapier', 'brandstof', 'bristolkarton', 'brokaat', 'bronspoeder', 'bruinharthout', 'buffelhoorn', 'buffelleer', 'buxushout', 'calqueerpapier', 'cantilledraad', 'carneool', 'cederhout', 'celadon', 'celluloid', 'cellulose acetaat', 'chalcedoon', 'chelas', 'chenille', 'chrysopraas', 'citrien', 'citroenboomhout', 'coromandelhout', 'coromandellak', 'crêpe', 'crêpepapier', 'darm', 'diamant', 'dierenhaar', 'djatihout', 'dons', 'doorzichtig papier', 'drukinkt', 'dubbelweefsel', 'edelsteen', 'ei', 'eigeel', 'elastiek', 'elzenhout', 'essenhout', 'fineer', 'fruithout', 'gaas', 'garen', 'geitenleer', 'geprepareerd linnen', 'gietijzer', 'gips', 'git', 'glacéleer', 'gom', 'goudbrokaat', 'gouddraad', 'goudgalon', 'goudlak', 'goudleer', 'goudpoeder', 'grafiet', 'granaat (mineraal)', 'grenenhout', 'haaienvel', 'haar (materiaal)', 'haarvilt', 'halfzijde', 'hardboard', 'hardhout', 'hennep', 'hertenleer', 'hertshoorn', 'huid', 'hulsthout', 'iepenhout', 'ijzerdraad', 'ijzererts', 'ijzerhout', 'ijzerrood', 'imitatieleer', 'jade', 'jeneverbessenhout', 'juchtleer', 'jute', 'kabbeshout', 'kalebas', 'kalfsleer', 'kalksteen', 'kant (materiaal)', 'kardoespapier', 'kastoor', 'keperweefsel', 'keramiek', 'kersenhout', 'kokosnoot', 'koningshout', 'koord', 'koperdraad', 'koperpoeder', 'koraal', 'kornoeljehout', 'kraakporselein', 'kristal (loodglas)', 'kunststeen', 'kunststof', 'kurk', 'kwarts', 'kwik', 'laiton', 'laken (materiaal)', 'lampas', 'lapis lazuli', 'leem', 'leisteen', 'letterhout', 'lijm', 'lindehout', 'lint', 'lood-alkaliglazuur', 'loodglas', 'lover', 'lusterglazuur', 'maansteen', 'majolica', 'materiaaldruk', 'mattenbies', 'meerschuim', 'melkglas', 'membraan', 'mensenhaar', 'metaaldraad', 'metaalfolie', 'millefioriglas', 'mineraal', 'mousseline', 'multiplex', 'naaldhout', 'nautilusschelp', 'nikkel', 'oesterschelp', 'olijfhout', 'onyx', 'opaal', 'paardenhaar', 'padoekhout', 'paillette', 'palmblad', 'papier-maché', 'parel', 'paulowniahout', 'peper', 'perenhout', 'perspex', 'pijpaarde', 'pitriet', 'plastic', 'pleister', 'pluche', 'pokhout', 'populierenhout', 'purperharthout', 'pâte', 'riet', 'rijstpapier', 'rijstpasta', 'rips', 'ripslint', 'robbenvel', 'robijn', 'robinia', 'roggenvel', 'roodkoper', 'roodlak', 'rotan', 'rozenhout', 'rubber', 'runderleer', 'saffier', 'salvokaat', 'samiet', 'sandelhout', 'satijnhout', 'satinet', 'schapenleer', 'schellak', 'schelp', 'sentoku', 'sepia', 'shibuichi', 'sits', 'slak', 'smaragd', 'smeedijzer', 'sodaliet', 'soft paste porcelain', 'spaanplaat', 'speksteen', 'spiegelglas', 'staal', 'steen (materiaal)', 'steenkool', 'stopverf', 'stramien', 'stras', 'strohalm', 'struisvogelveer', 'stucwerk', 'suassa', 'suède', 'taf', 'tand', 'taxushout', 'teakhout', 'tempera', 'tijk', 'tin-lood-alkaliglazuur', 'tinlegering', 'toetssteen', 'tombak', 'topaas', 'tricot', 'trijp', 'triplex', 'tropisch hout', 'tufsteen', 'tule', 'turf', 'turkoois', 'veer (vogel)', 'vel', 'velijn', 'vernis', 'vilt', 'violethout', 'vlas', 'vloszijde', 'vulkanisch gesteente', 'vurenhout', 'vuursteen', 'was', 'wasdoek', 'wasleer', 'water', 'watten', 'wilgenhout', 'wilgenteen', 'wit marmer', 'without', 'wortelhout', 'wortelnotenhout', 'zaagsel', 'zand', 'zandsteen', 'zeegras', 'zeemleer', 'zegellak', 'zeildoek', 'zijdelint', 'zilverbrokaat', 'zilvergalon', 'zilverpoeder', 'zink', 'zoutglazuur', 'zwart krijt'] will be ignored\n",
            "  .format(sorted(unknown, key=str)))\n",
            "/usr/local/lib/python3.6/dist-packages/sklearn/preprocessing/_label.py:987: UserWarning: unknown class(es) ['', 'Berlijns zilver', 'Chinees papier', 'Delfts aardewerk', 'Engels aardewerk', 'Oost-Indische inkt', 'agaat', 'albast', 'albuminepapier', 'amboinahout', 'andesiet', 'balein', 'barnsteen', 'been', 'berberishout', 'bergkristal', 'biscuit', 'blaas', 'bladgoud', 'bladzilver', 'blanc de Chine', 'blindhout', 'bont', 'bordpapier', 'brokaat', 'bronspoeder', 'bronsverf', 'buxushout', 'campêchehout', 'cederhout', 'celluloid', 'cellulose acetaat', 'cipressenhout', 'collodium', 'coromandelhout', 'coromandellak', 'diamant', 'drukinkt', 'edelsteen', 'elastiek', 'essenhout', 'fluweelband', 'fruithout', 'gaas', 'garen', 'geitenleer', 'geolied papier', 'geprepareerd linnen', 'gietijzer', 'gips', 'gouddraad', 'gouderts', 'goudlak', 'goudleer', 'goudpapier', 'goudpoeder', 'grafiet', 'granaat (mineraal)', 'grenenhout', 'haar (materiaal)', 'hardboard', 'hertenleer', 'hertshoorn', 'huid', 'hulsthout', 'iepenhout', 'ijzerdraad', 'ijzerhout', 'jade', 'jaspis', 'kalfsleer', 'kalksteen', 'kant (materiaal)', 'kardoespapier', 'keramiek', 'kersenhout', 'knobbelhoorn', 'kokosnoot', 'koningshout', 'koperdraad', 'koperpoeder', 'kraakporselein', 'kristal (loodglas)', 'kunststof', 'kurk', 'laken (materiaal)', 'lamel', 'lampas', 'lapis lazuli', 'leisteen', 'lijm', 'lindehout', 'lover', 'lusterglazuur', 'majolica', 'malachiet', 'mattenbies', 'metaaldraad', 'metaalgaren', 'millefioriglas', 'molton', 'naaldhout', 'nautilusschelp', 'nikkel', 'olijfhout', 'opaal', 'organisch materiaal', 'paardenhaar', 'palmblad', 'parel', 'perenhout', 'perspex', 'pijpaarde', 'piqué', 'pokhout', 'populierenhout', 'purperharthout', 'pâte', 'riet', 'rips', 'robbenvel', 'robijn', 'roggenvel', 'roodkoper', 'rotan', 'rozenhout', 'runderleer', 'saffier', 'satijnhout', 'segrijn', 'sentoku', 'serpentijnsteen', 'shibuichi', 'sits', 'smaragd', 'solnhofersteen', 'spaanplaat', 'speksteen', 'spiegelglas', 'staal', 'steen (materiaal)', 'steenkool', 'stras', 'strohalm', 'stucwerk', 'suassa', 'taf', 'teakhout', 'tempera', 'thujahout', 'tin-lood-alkaliglazuur', 'toermalijn', 'toetssteen', 'trijp', 'tropisch hout', 'tule', 'turkoois', 'veer (vogel)', 'vernis', 'vilt', 'violethout', 'vlas', 'vloszijde', 'vurenhout', 'vuursteen', 'walrustand', 'was', 'wasdoek', 'wasverf', 'wilgenteen', 'wit marmer', 'without', 'witmetaal', 'wortelhout', 'wortelnotenhout', 'zandsteen', 'zeemleer', 'zeildoek', 'zijdelint', 'zilverband', 'zilverpapier', 'zilverpoeder', 'zink', 'zoetwaterparel'] will be ignored\n",
            "  .format(sorted(unknown, key=str)))\n"
          ],
          "name": "stderr"
        }
      ]
    },
    {
      "cell_type": "code",
      "metadata": {
        "colab": {
          "base_uri": "https://localhost:8080/"
        },
        "id": "b1E7bmAub2r1",
        "outputId": "5f2c0b7d-0773-4016-f3ec-16c6cacbf2c2"
      },
      "source": [
        "Material_Biner.classes_.shape[0]"
      ],
      "execution_count": null,
      "outputs": [
        {
          "output_type": "execute_result",
          "data": {
            "text/plain": [
              "78"
            ]
          },
          "metadata": {
            "tags": []
          },
          "execution_count": 12
        }
      ]
    },
    {
      "cell_type": "code",
      "metadata": {
        "id": "--VbIIiqLXRl"
      },
      "source": [
        "n_train = train_materials.shape[0]\n",
        "n_test = test_materials.shape[0]"
      ],
      "execution_count": null,
      "outputs": []
    },
    {
      "cell_type": "code",
      "metadata": {
        "id": "Uk51iOLpLtDr"
      },
      "source": [
        "x_train = np.zeros((n_train,rep_dim))\n",
        "x_test = np.zeros((n_test,rep_dim))"
      ],
      "execution_count": null,
      "outputs": []
    },
    {
      "cell_type": "code",
      "metadata": {
        "id": "F2Xxmjy6L8Zb"
      },
      "source": [
        "BATCH_SIZE = 128\n",
        "ds_train = tf.data.Dataset.from_tensor_slices(train_paths)\n",
        "ds_train = ds_train.map(img_preprocess)\n",
        "ds_train = ds_train.batch(BATCH_SIZE)\n",
        "\n",
        "ds_test = tf.data.Dataset.from_tensor_slices(test_paths)\n",
        "ds_test = ds_test.map(img_preprocess)\n",
        "ds_test = ds_test.batch(BATCH_SIZE)"
      ],
      "execution_count": null,
      "outputs": []
    },
    {
      "cell_type": "code",
      "metadata": {
        "colab": {
          "base_uri": "https://localhost:8080/"
        },
        "id": "RoguPvlUM6ie",
        "outputId": "7a6dcb0b-d4cf-40c2-8fd7-56e4cc4d4b33"
      },
      "source": [
        "pbar = keras.utils.Progbar(n_train // BATCH_SIZE + 1 )\n",
        "for i, batch in enumerate(ds_train):\n",
        "  reps = encoder(batch,training=False)\n",
        "  x_train[i*BATCH_SIZE:(i+1)*BATCH_SIZE,:] = reps.numpy()\n",
        "  pbar.update(i+1)\n",
        "\n",
        "pbar = keras.utils.Progbar(n_test // BATCH_SIZE + 1 )\n",
        "for i, batch in enumerate(ds_test):\n",
        "  reps = encoder(batch,training=False)\n",
        "  x_test[i*BATCH_SIZE:(i+1)*BATCH_SIZE,:] = reps.numpy()\n",
        "  pbar.update(i+1)"
      ],
      "execution_count": null,
      "outputs": [
        {
          "output_type": "stream",
          "text": [
            "701/701 [==============================] - 530s 756ms/step\n",
            "176/176 [==============================] - 127s 721ms/step\n"
          ],
          "name": "stdout"
        }
      ]
    },
    {
      "cell_type": "code",
      "metadata": {
        "id": "mQQzL0x8AoX_"
      },
      "source": [
        "scaler = StandardScaler()\n",
        "x_train = scaler.fit_transform(x_train)\n",
        "x_test = scaler.transform(x_test)"
      ],
      "execution_count": null,
      "outputs": []
    },
    {
      "cell_type": "code",
      "metadata": {
        "id": "pK2VBh7eNplm"
      },
      "source": [
        "clf = keras.Sequential([\n",
        "  L.Dense(Material_Biner.classes_.shape[0],'sigmoid')\n",
        "])\n"
      ],
      "execution_count": null,
      "outputs": []
    },
    {
      "cell_type": "code",
      "metadata": {
        "id": "-VCoumXpOHJ1"
      },
      "source": [
        "clf.compile(\n",
        "    keras.optimizers.Adam(),\n",
        "    SigmoidFocalCrossEntropy()\n",
        ")"
      ],
      "execution_count": null,
      "outputs": []
    },
    {
      "cell_type": "code",
      "metadata": {
        "id": "8x220fkpmEiK"
      },
      "source": [
        "train_materials = train_materials.astype(np.float32)"
      ],
      "execution_count": null,
      "outputs": []
    },
    {
      "cell_type": "code",
      "metadata": {
        "colab": {
          "base_uri": "https://localhost:8080/"
        },
        "id": "UNln5HHBOVqS",
        "outputId": "5e6efd3e-f022-4154-c4fa-a5d4c29f9e65"
      },
      "source": [
        "clf.fit(x=x_train,y=train_materials,epochs=50,validation_split=0.2)"
      ],
      "execution_count": null,
      "outputs": [
        {
          "output_type": "stream",
          "text": [
            "Epoch 1/50\n",
            "2241/2241 [==============================] - 6s 3ms/step - loss: 3.0748 - val_loss: 0.7612\n",
            "Epoch 2/50\n",
            "2241/2241 [==============================] - 6s 3ms/step - loss: 0.4230 - val_loss: 0.2423\n",
            "Epoch 3/50\n",
            "2241/2241 [==============================] - 6s 3ms/step - loss: 0.1844 - val_loss: 0.1468\n",
            "Epoch 4/50\n",
            "2241/2241 [==============================] - 6s 3ms/step - loss: 0.1326 - val_loss: 0.1233\n",
            "Epoch 5/50\n",
            "2241/2241 [==============================] - 6s 3ms/step - loss: 0.1178 - val_loss: 0.1167\n",
            "Epoch 6/50\n",
            "2241/2241 [==============================] - 6s 3ms/step - loss: 0.1124 - val_loss: 0.1142\n",
            "Epoch 7/50\n",
            "2241/2241 [==============================] - 6s 3ms/step - loss: 0.1095 - val_loss: 0.1119\n",
            "Epoch 8/50\n",
            "2241/2241 [==============================] - 6s 3ms/step - loss: 0.1075 - val_loss: 0.1142\n",
            "Epoch 9/50\n",
            "2241/2241 [==============================] - 6s 3ms/step - loss: 0.1067 - val_loss: 0.1112\n",
            "Epoch 10/50\n",
            "2241/2241 [==============================] - 6s 3ms/step - loss: 0.1060 - val_loss: 0.1108\n",
            "Epoch 11/50\n",
            "2241/2241 [==============================] - 6s 3ms/step - loss: 0.1051 - val_loss: 0.1095\n",
            "Epoch 12/50\n",
            "2241/2241 [==============================] - 6s 3ms/step - loss: 0.1046 - val_loss: 0.1098\n",
            "Epoch 13/50\n",
            "2241/2241 [==============================] - 6s 3ms/step - loss: 0.1043 - val_loss: 0.1102\n",
            "Epoch 14/50\n",
            "2241/2241 [==============================] - 6s 3ms/step - loss: 0.1034 - val_loss: 0.1103\n",
            "Epoch 15/50\n",
            "2241/2241 [==============================] - 6s 3ms/step - loss: 0.1031 - val_loss: 0.1093\n",
            "Epoch 16/50\n",
            "2241/2241 [==============================] - 6s 3ms/step - loss: 0.1029 - val_loss: 0.1100\n",
            "Epoch 17/50\n",
            "2241/2241 [==============================] - 6s 3ms/step - loss: 0.1028 - val_loss: 0.1111\n",
            "Epoch 18/50\n",
            "2241/2241 [==============================] - 6s 3ms/step - loss: 0.1026 - val_loss: 0.1096\n",
            "Epoch 19/50\n",
            "2241/2241 [==============================] - 6s 3ms/step - loss: 0.1021 - val_loss: 0.1115\n",
            "Epoch 20/50\n",
            "2241/2241 [==============================] - 6s 3ms/step - loss: 0.1019 - val_loss: 0.1108\n",
            "Epoch 21/50\n",
            "2241/2241 [==============================] - 6s 3ms/step - loss: 0.1019 - val_loss: 0.1102\n",
            "Epoch 22/50\n",
            "2241/2241 [==============================] - 6s 3ms/step - loss: 0.1017 - val_loss: 0.1108\n",
            "Epoch 23/50\n",
            "2241/2241 [==============================] - 7s 3ms/step - loss: 0.1015 - val_loss: 0.1109\n",
            "Epoch 24/50\n",
            "2241/2241 [==============================] - 6s 3ms/step - loss: 0.1012 - val_loss: 0.1118\n",
            "Epoch 25/50\n",
            "2241/2241 [==============================] - 6s 3ms/step - loss: 0.1012 - val_loss: 0.1106\n",
            "Epoch 26/50\n",
            "2241/2241 [==============================] - 6s 3ms/step - loss: 0.1010 - val_loss: 0.1093\n",
            "Epoch 27/50\n",
            "2241/2241 [==============================] - 6s 3ms/step - loss: 0.1009 - val_loss: 0.1105\n",
            "Epoch 28/50\n",
            "2241/2241 [==============================] - 6s 3ms/step - loss: 0.1006 - val_loss: 0.1103\n",
            "Epoch 29/50\n",
            "2241/2241 [==============================] - 6s 3ms/step - loss: 0.1007 - val_loss: 0.1110\n",
            "Epoch 30/50\n",
            "2241/2241 [==============================] - 6s 3ms/step - loss: 0.1004 - val_loss: 0.1101\n",
            "Epoch 31/50\n",
            "2241/2241 [==============================] - 7s 3ms/step - loss: 0.1005 - val_loss: 0.1115\n",
            "Epoch 32/50\n",
            "2241/2241 [==============================] - 6s 3ms/step - loss: 0.1005 - val_loss: 0.1092\n",
            "Epoch 33/50\n",
            "2241/2241 [==============================] - 6s 3ms/step - loss: 0.1003 - val_loss: 0.1108\n",
            "Epoch 34/50\n",
            "2241/2241 [==============================] - 6s 3ms/step - loss: 0.1001 - val_loss: 0.1104\n",
            "Epoch 35/50\n",
            "2241/2241 [==============================] - 6s 3ms/step - loss: 0.1003 - val_loss: 0.1116\n",
            "Epoch 36/50\n",
            "2241/2241 [==============================] - 6s 3ms/step - loss: 0.0998 - val_loss: 0.1123\n",
            "Epoch 37/50\n",
            "2241/2241 [==============================] - 6s 3ms/step - loss: 0.0997 - val_loss: 0.1116\n",
            "Epoch 38/50\n",
            "2241/2241 [==============================] - 6s 3ms/step - loss: 0.0996 - val_loss: 0.1120\n",
            "Epoch 39/50\n",
            "2241/2241 [==============================] - 6s 3ms/step - loss: 0.0998 - val_loss: 0.1118\n",
            "Epoch 40/50\n",
            "2241/2241 [==============================] - 6s 3ms/step - loss: 0.0997 - val_loss: 0.1118\n",
            "Epoch 41/50\n",
            "2241/2241 [==============================] - 6s 3ms/step - loss: 0.0997 - val_loss: 0.1114\n",
            "Epoch 42/50\n",
            "2241/2241 [==============================] - 6s 3ms/step - loss: 0.0995 - val_loss: 0.1125\n",
            "Epoch 43/50\n",
            "2241/2241 [==============================] - 6s 3ms/step - loss: 0.0996 - val_loss: 0.1117\n",
            "Epoch 44/50\n",
            "2241/2241 [==============================] - 6s 3ms/step - loss: 0.0995 - val_loss: 0.1118\n",
            "Epoch 45/50\n",
            "2241/2241 [==============================] - 6s 3ms/step - loss: 0.0995 - val_loss: 0.1111\n",
            "Epoch 46/50\n",
            "2241/2241 [==============================] - 6s 3ms/step - loss: 0.0995 - val_loss: 0.1133\n",
            "Epoch 47/50\n",
            "2241/2241 [==============================] - 6s 3ms/step - loss: 0.0992 - val_loss: 0.1120\n",
            "Epoch 48/50\n",
            "2241/2241 [==============================] - 6s 3ms/step - loss: 0.0992 - val_loss: 0.1109\n",
            "Epoch 49/50\n",
            "2241/2241 [==============================] - 6s 3ms/step - loss: 0.0993 - val_loss: 0.1125\n",
            "Epoch 50/50\n",
            "2241/2241 [==============================] - 6s 3ms/step - loss: 0.0992 - val_loss: 0.1116\n"
          ],
          "name": "stdout"
        },
        {
          "output_type": "execute_result",
          "data": {
            "text/plain": [
              "<tensorflow.python.keras.callbacks.History at 0x7f1b89be6e80>"
            ]
          },
          "metadata": {
            "tags": []
          },
          "execution_count": 21
        }
      ]
    },
    {
      "cell_type": "code",
      "metadata": {
        "id": "sn_g0EBVclGP"
      },
      "source": [
        "test_pred = clf.predict(x_test)"
      ],
      "execution_count": null,
      "outputs": []
    },
    {
      "cell_type": "code",
      "metadata": {
        "id": "sRJ4wka_hJxS"
      },
      "source": [
        "iMAP = average_precision_score(\n",
        "    test_materials[~np.all(test_materials==0,1),:],\n",
        "    test_pred[~np.all(test_materials==0,1),:],\n",
        "    average='samples')"
      ],
      "execution_count": null,
      "outputs": []
    },
    {
      "cell_type": "code",
      "metadata": {
        "colab": {
          "base_uri": "https://localhost:8080/"
        },
        "id": "mUYifBhPk8Pv",
        "outputId": "f2b4e17e-51fb-4fa2-dcb7-bf3355c9ff14"
      },
      "source": [
        "print(f'{test_materials.shape[1]} Material Multi-Label Classification iMAP: {iMAP:0.4f}')"
      ],
      "execution_count": null,
      "outputs": [
        {
          "output_type": "stream",
          "text": [
            "78 Material Multi-Label Classification iMAP: 0.9344\n"
          ],
          "name": "stdout"
        }
      ]
    },
    {
      "cell_type": "code",
      "metadata": {
        "colab": {
          "base_uri": "https://localhost:8080/"
        },
        "id": "09qNJC14hvJb",
        "outputId": "d051f723-0074-4b0a-f8bd-382e5138af6b"
      },
      "source": [
        "MAP = average_precision_score(\n",
        "    test_materials,\n",
        "    test_pred,\n",
        "    average='macro'\n",
        ")\n",
        "print(f'{test_materials.shape[1]} Material Multi-Label Classification MAP: {MAP:0.4f}')"
      ],
      "execution_count": null,
      "outputs": [
        {
          "output_type": "stream",
          "text": [
            "78 Material Multi-Label Classification MAP: 0.2903\n"
          ],
          "name": "stdout"
        }
      ]
    },
    {
      "cell_type": "markdown",
      "metadata": {
        "id": "frLStZZhOvcB"
      },
      "source": [
        "## Type Classification"
      ]
    },
    {
      "cell_type": "code",
      "metadata": {
        "id": "ZNBLYkLTOvNk"
      },
      "source": [
        "train_types = train_df['object_types'].map(lambda x: str(x).split('|')).to_list()\n",
        "test_types = test_df['object_types'].map(lambda x: str(x).split('|')).to_list()"
      ],
      "execution_count": null,
      "outputs": []
    },
    {
      "cell_type": "code",
      "metadata": {
        "id": "PRTqmXTVPVe8"
      },
      "source": [
        "type_counter = Counter()\n",
        "for type_list in test_df['object_types'].map(lambda x: str(x).split('|')).to_list():\n",
        "  type_counter.update(type_list)\n",
        "\n",
        "type_classes = []\n",
        "for k, v in type_counter.items():\n",
        "  if k == '': continue\n",
        "  if v > 10:\n",
        "    type_classes.append(k)\n",
        "\n"
      ],
      "execution_count": null,
      "outputs": []
    },
    {
      "cell_type": "code",
      "metadata": {
        "colab": {
          "base_uri": "https://localhost:8080/"
        },
        "id": "N2JDH842Ppd4",
        "outputId": "3a893d63-1395-4f1d-dcf8-8b97b62f1ca8"
      },
      "source": [
        "Type_Biner = MultiLabelBinarizer(type_classes)\n",
        "train_types = Type_Biner.fit_transform(train_types).astype(np.float32)\n",
        "test_types = Type_Biner.transform(test_types)\n",
        "n_types = Type_Biner.classes_.shape[0]\n",
        "print(f'Number of Art Types: {n_types}')"
      ],
      "execution_count": null,
      "outputs": [
        {
          "output_type": "stream",
          "text": [
            "Number of Art Types: 101\n"
          ],
          "name": "stdout"
        },
        {
          "output_type": "stream",
          "text": [
            "/usr/local/lib/python3.6/dist-packages/sklearn/preprocessing/_label.py:987: UserWarning: unknown class(es) ['Avalokitesvara', 'Berlijns porselein', 'Boeddha-beeld', 'Brahma', 'Chinees porselein', 'Delftse faïence', 'Duits porselein', 'Europees porselein', 'Fez', 'Frankenthal porselein', 'Fulda porselein', 'Fürstenberg porselein', 'Hansje-in-de-kelder', 'Höchst porselein', 'Jacobakan', 'Johannesschotel', 'Krishna', 'Kuvera', 'Lokeshvara', 'Mahishasura', 'Maitreya', 'Manjushri', 'Nandin', 'Nandishvara', 'Perzische miniatuur', 'Rabat', 'Savonnerie-tapijt', 'Shiva', 'Sinclairsabel', 'Thang-ka', 'Thérèse', 'Visjnoe', 'Yamantaka', 'aak', 'aanplakbiljet', 'aardappelmaat', 'aardewerk', 'achterglasschildering', 'achterplaat', 'adreskaart', 'adverteermiddel', 'affuit', 'afgietsel', 'aflaatprent', 'agraaf', 'aker (versiersel)', 'albarello', 'albestrook', 'almanak', 'altaar', 'altaarhanger', 'altaarkruis', 'altaarlessenaar', 'amazonekostuum', 'ambtsketen', 'ameublement', 'ampul', 'anker (scheepsuitrusting)', 'apothekersfles', 'applique', 'aquamanile', 'aquarel', 'architectuurtekening', 'armband', 'asschop', 'astrolabium', 'astrolabium catholicum', 'aurifries', 'autograaf', 'automaat', 'avondkleding', 'avondmaalskelk', 'avondmaalsschotel', 'avondmaalstel', 'azijnfles', 'azijnmaat', 'baardmankruik', 'badine', 'baggervaartuig', 'bajonet', 'bak', 'bakermat', 'bakskist', 'baksteen', 'bal', 'balans (meetinstrument)', 'ballotagezak', 'balpoottafel', 'bank', 'bankschroef', 'barometer', 'bazuin', 'bed', 'beddengoed', 'beddenpan', 'bedstede', 'beeldengroep', 'beeldmotet', 'begrafenispenning', 'begrafenisschild', 'behangsel', 'beitel', 'bekerhouder', 'bekerschroef', 'bekervaas', 'bekken (schaal)', 'bel', 'bergère', 'berkemeier', 'beslag', 'bestek', 'bestekfoedraal', 'betimmering', 'beugel (sluitmiddel)', 'beugeltas', 'beulszwaard', 'beurs', 'bezem', 'bicorne', 'bidkleed', 'bidprent', 'bierkan', 'bierpul', 'biervat', 'bijbel', 'binnenbak', 'binnenvaartuig', 'binnenwerk', 'bisschopsstaf', 'blaasbalg', 'blad', 'bladmuziek', 'blaker', 'blauwdruk', 'blik', 'bliksemafleider', 'bloedband', 'bloemhouder', 'bloempiramide', 'bloempot', 'blok', 'blokschaaf', 'bodebus', 'bodem (potscherven)', 'bodhisattva', 'boegbeeld', 'boegspriet', 'boei', 'boekband', 'boekenkist', 'boeketdrager', 'boekethouder', 'boekslot', 'boender', 'bokaal', 'bokpistool', 'bonbonmand', 'bonheur-du-jour', 'boor', 'booromslag', 'boorschaaf', 'boot', 'bootmansfluit', 'bootshaak', 'bord (informatie)', 'bordspel (set)', 'borduurwerk', 'borstel', 'borstelrug', 'borstkruis', 'borstrok', 'bot', 'botermaat', 'boterspaan', 'bouilloire', 'bourdalou', 'bouwfragment', 'bovenkleding', 'bramsteng', 'brandewijnkom', 'brandhout', 'breeuwijzer', 'brief', 'brieventas', 'brik (vaartuig)', 'bril', 'brillendoos', 'brillenetui', 'brisé-waaier', 'broche (sieraad)', 'brochure', 'broekgesp', 'broodmand', 'bruidshandschoen', 'bruidskist', 'brunaille', 'buffet', 'bugel', 'buidel', 'bureautafel', 'burijn (object)', 'bursa', 'bus', 'buste', 'cachepot', 'cachet', 'calèche', 'canapé', 'cantonnière', 'carronade', 'cartelklok', 'cartografie', 'cassapanca', 'cassette', 'cassone', 'ceintuur', 'ceintuurgesp', 'centraalvuurgeweer', 'ceremonieel wapen', 'ceremoniesleutel', 'ceremoniestaf', 'certificaat', 'chaire', 'chanoekalamp', 'chenet', 'chiffonnière', 'chocoladekan', 'chocoladekop', 'chrismatorium', 'ciborie', 'clavecimbeldeksel', 'clavecimbelklep', 'clavichord', 'clavichordklep', 'clinometer', 'collage', 'collier', 'collier de chien', 'commode', 'condensor', 'console', 'constructiemodel', 'contrazegelstempel', 'corsaire', 'coupe', 'cylinderbureau', 'daalder', 'dakversiering', 'dambord', 'dameshorloge', 'damesschoen', 'damschijf', 'dasslip', 'decoratiestuk', 'degen', 'degenhanger', 'deken', 'dekschaal', 'dekselpot', 'dekselvaas', 'demi-parure', 'dessertbord', 'dessus-de-miroir', 'dessus-de-porte', 'deur', 'deurgreep', 'deurgrendel', 'deurhengsel', 'deurklopper', 'deurknop', 'deurkruk', 'deurpost', 'deurslot', 'diadeem', 'diafanoramaplaat', 'diamant', 'dienblad', 'diep bord', 'dieplood', 'dierfiguur', 'dierstudie', 'diorama', 'diploma', 'diptiek', 'dissel', 'dobbelglas', 'dobbelier', 'document', 'documentaire foto', 'doek', 'doelgeweer', 'doelroer', 'dolk', 'domper', 'doodkist', 'doofpot', 'doopkleed', 'doopstel', 'dop', 'dou', 'draagkorf', 'draagteken', 'draaiblok', 'draailoopgeweer', 'draailooppistool', 'draaisleutel', 'dreg', 'dressoir', 'driemaster', 'drievoet', 'drinkgerei', 'drinkglas', 'drinkhoorn', 'drinkkan', 'drinkschaal', 'drinkvat', 'druif', 'druiventros', 'drukkersmerk', 'drukletter', 'drukwerk', 'duit', 'dwarsfluit', 'eenschijfsblok', 'egoyomi (kalenderblad)', 'emballage', 'emmer', 'engageante', 'enkellaars', 'entablement', 'enterbijl', 'envelop', 'epaulet', 'epitaaf', 'eredolk', 'erepenning', 'eresabel', 'etui', 'evenveeltjespan', 'ex-libris', 'expositietroon', 'face-à-main', 'facsimile', 'faience', 'familiepenning', 'familiewapen', 'fantasiebeker', 'fichesdoos', 'fichu', 'filtreermachine', 'flacon', 'flambouwkandelaar', 'flapkan', 'fluitglas', 'foedraal', 'fontein', 'fopkan', 'fotoalbum', 'fotoboek', 'fotogram', 'fotomechanisch procedé', 'fotomontage', 'fotosequentie', 'fraise à la confusion', 'frak', 'fregat', 'frontispice', 'fruitmand', 'fruitschaal', 'fruittest', 'gaffel', 'galakleding', 'galei', 'galoche', 'ganzenpen', 'ganzenroer', 'garen', 'gasmeter', 'gealbuminiseerde zoutdruk', 'gebedenboek', 'gebedsnoot', 'geboortebeker', 'geboortekaart', 'geboortepenning', 'gebruiksvoorwerp', 'gedachtenisbord', 'gedachtenislepel', 'gedenkteken', 'geldbuidel', 'gereedschap', 'geschut', 'gesp', 'getijroos', 'geuzenpenning', 'gevelsteen', 'gevest', 'gevestwapen', 'geweer', 'gewei', 'gewicht', 'ghanta', 'gietvorm', 'gildebus', 'gildepenning', 'gildeschild', 'glas (objectnaam)', 'glaskarton', 'glazenspuit', 'gordel', 'gordelhaak', 'gordelpendant', 'gordijn', 'gouache', 'goudleer', 'graadstok', 'graanmaat', 'grafbord', 'graffiguur', 'grafgift', 'grafkruis', 'grafmonument', 'graftombe', 'grafvaas', 'granaat (munitie)', 'gravureplaat', 'grendel', 'groenteschaal', 'gu', 'gulden', 'guts', 'guéridon', 'haak', 'haal', 'haar (materiaal)', 'haardplaat', 'haardtang', 'haardveger', 'haarkam', 'haarkam (haartooi)', 'haarkam (toiletartikel)', 'haarnaald', 'haarsieraad', 'halfmodel', 'halshorloge', 'halsketting', 'halskraag', 'hamer', 'handboeien', 'handboek', 'handboor', 'handelsetiket', 'handenwarmer', 'handgreep', 'handleiding', 'handlood', 'handscherm', 'handschoen', 'handschrift', 'handschrift (document)', 'handspiegel', 'handvat', 'hanger (sieraad)', 'hangrol', 'hangslot', 'haringschaal', 'harnasonderdeel', 'harpoen', 'hartsvanger', 'heft', 'heiligenbeeld', 'hekjacht', 'heliotypie', 'hellebaard', 'helm', 'hemd', 'hemelbed', 'hengselmand', 'heraldisch object', 'herenkleding', 'herinneringsobject', 'hibachi', 'hiire', 'hoed', 'hoedenkoffer', 'hoedenlint', 'hoeker', 'hoekkast', 'hoekmeetinstrument', 'hoekmeter', 'hoofddeksel', 'hoogreliëf', 'hoorn (objectnaam)', 'horloge', 'horlogestandaard', 'houder', 'houtblok', 'houtskoolbrander', 'houtzaagmolen', 'houwer', 'hu', 'huis', 'huisaltaar', 'huisjas', 'huismuts', 'humpen', 'huwelijksjubileumpenning 50', 'huwelijkspenning', 'huwelijksprent', 'hyacintenbak', 'hyacintenvaas', 'ijsbreker', 'ijsemmer', 'illustratie', 'inhoudsmaat droge waren', 'inhoudsmaat natte waren', 'inhoudsopgave', 'inktpot', 'inktstel', 'inro', 'instrument', 'interieuronderdeel', 'ivoorsnijwerk', 'jacht (vaartuig)', 'jachtfles', 'jachtgeweer', 'jachthoorn', 'jachtwapen', 'jachtzwaard', 'jak', 'japon', 'japonse rok', 'jardinière', 'jas', 'jasje', 'jatagan', 'jongenskleding', 'jubako', 'jue', 'justaucorps', 'juwelenkist', 'juwelenkoffer', 'kaapstander (hefwerktuig)', 'kaars', 'kaarsenhouder', 'kaarsensnuiter', 'kaarsenstandaard', 'kaarsensteker', 'kaarssteeker', 'kaartnet', 'kabaai', 'kabeltouw', 'kabinet', 'kabinetfoto', 'kachel', 'kachelplaat', 'kakemono', 'kakstoel', 'kalakop', 'kalender', 'kalenderhorloge', 'kalfaatijzer', 'kalkbak', 'kalkmaat', 'kalot', 'kamer', 'kamerbeschildering', 'kamerheersleutel', 'kamerjas', 'kamerscherm', 'kamizooltje', 'kandeelpot', 'kandelaber', 'kandijbak', 'kanon', 'kanonskogel', 'kap (hoofddeksel)', 'kapje', 'kapmes', 'karabijn', 'karaf', 'kardoes', 'kartelklok', 'kartelpendule', 'kartetskogel', 'karton', 'kasjmiersjaal', 'kastane', 'kastanjevaas', 'kaststel', 'katana', 'kazuifel', 'kelk', 'kelkvelum', 'keman', 'kendi', 'kerkelijk object', 'kerkelijk textiel', 'kerkengeldtas', 'kerkkandelaar', 'kerkmeubel', 'kerkorgel', 'kerkstoel', 'ketel', 'keten', 'ketting', 'kettingstopper', 'keuken', 'keukenstoel', 'kiel (scheepsonderdeel)', 'kinderdeken', 'kinderkleding', 'kinderledikant', 'kinderservies', 'kinderspeltegel', 'kindersprei', 'kinderstoel', 'kindertekening', 'klapbuffet', 'klaptafel', 'klavier', 'kleed', 'klepel', 'klok', 'klokkandelaar', 'klontjespot', 'kluister', 'kluwenhouder', 'knikpop', 'knip', 'knipmes', 'knipsel', 'knipselkunst', 'knobbelfles', 'knoop', 'knop', 'knopenmal', 'knopstoel', 'knottebeurs', 'knottedoos', 'knottekist', 'knottepong', 'kobako', 'koekenpan', 'koevoet', 'koffer', 'koffie- en theeservies', 'koffiebus', 'koffiefilterpot', 'koffiekan', 'koffiekop', 'koffiemolen', 'koffieservies', 'koffietafel', 'koffietrommel', 'kogel (munitie)', 'kogelgiettang', 'kogelslot', 'kogo', 'koker', 'kokosnootbeker', 'kolder', 'kolom', 'kom op voet', 'komfoor', 'kompas', 'kompasdoos', 'kookketel', 'kookpot', 'kooldruk', 'koord', 'koord met kwast', 'koorkap', 'kopie', 'kopie naar fresco', 'kopie naar prent', 'kopie naar schilderij', 'kopie naar tekening', 'korenmaat', 'korte jas', 'korvijnagel', 'kostuum', 'kostuumstudie', 'kotter', 'kotterjacht', 'kous', 'kousenband', 'kozuka', 'kraag', 'kraagkandelaar', 'kraaikop', 'kraamherenmuts', 'kraamkussen', 'kraan', 'kraantjeskan', 'kralentas', 'krant', 'kris', 'kroes', 'kroon', 'kroonluchter', 'kruisbeeld', 'kruisboog', 'kruistegel', 'kruithoorn', 'kruitmaat', 'kruittester', 'krukgewicht', 'kunstfruit', 'kunstkast', 'kunstklip', 'kunstslot', 'kussen', 'kussenblad', 'kussenkast', 'kussenovertrek', 'kuttrolf', 'kwadrant', 'kwast (garneersel)', 'kwispedoor', 'laadstok', 'laars', 'ladder', 'ladenkast', 'lak', 'lakdoos', 'laken (object)', 'lakkabinet', 'lakkist', 'lakpaneel', 'lakzegel', 'lambrekijn', 'lamp', 'lampetkan', 'landkaart', 'lantaarn', 'lap', 'lavabo', 'ledikant', 'leer', 'legitimatiepenning', 'lepelbak', 'lepelrek', 'lepelvaas', 'lessenaar', 'letterlap', 'lichtarm', 'lichtkaatser', 'liding', 'lidmaatschapsbewijs', 'lied', 'liedboek', 'lier (hefwerktuig)', 'lijfje', 'lijkkleed', 'lijst', 'lijstdeel', 'lilla', 'liniaal', 'linieschip', 'linnenpers', 'lint', 'liturgisch vaatwerk', 'liturgische kleding', 'logvin', 'lontroer', 'lontslotgeweer', 'lontslotwapen', 'lood (gewicht)', 'loopbundelgeweer', 'loopbundelpistool', 'lorgnet', 'loterijbrief', 'loterijprent', 'luchtdrukgeweer', 'luiermand', 'luiermandskast', 'luifelhoed', 'luiklok', 'luizenkam', 'lunula', 'luster (verlichtingsmiddel)', 'maatstok', 'maculatuur', 'magistratenkussen', 'makimono', 'mal', 'maliënkolder', 'mammelukkenmouw', 'manchet', 'manchetknoop', 'mand', 'manipel', 'mannenfiguur', 'manteau', 'mantel', 'manuscript', 'map', 'maquette', 'masker', 'mast', 'mat', 'matras', 'medaille', 'medaillon', 'medaillon (sieraad)', 'medaillonkleed', 'medaillonportret', 'medicijndoos', 'meetinstrument', 'meetlint', 'melkkan', 'melkmaat', 'memoriestuk', 'memorietafel', 'mensenhaar', 'mergboor', 'merklap', 'mes (culinair gereedschap)', 'mes (snijgereedschap)', 'messenheft', 'messenkoker', 'middenstuk', 'miskelk', 'mitaine', 'mizusashi', 'modeprent', 'mof', 'molen', 'molenaar', 'molenbeker', 'molenglas', 'molenspel', 'mondstuk', 'monster (object)', 'monsterbord', 'monstrans', 'moonshawl', 'moskeelamp', 'mosterdpot', 'mouw', 'mouwvest', 'muil', 'muiltje', 'muizenval', 'munt', 'musket', 'musketkogel', 'musketvork', 'muts', 'muurschildering', 'muziekinstrument', 'muziekkast', 'naaigerei', 'naaikussen', 'naaldenkoker', 'naamplaat', 'namban-tsuba', 'nan', 'nap', 'narwalhoorn', 'natfruitschaal', 'nautilusbeker', 'nautilusschelp', 'navigatie-instrument', 'necessaire', 'negatief', 'netsuke', 'nieuwjaarswens', 'nieuwsbrief', 'nijptang', 'nimcha', 'nocturlabium', 'noodmunt', 'notenkraker', 'notitieboek', 'obelisk', 'objet de vertu', 'octrooi', 'oesterkabinet', 'oesterschelp', 'offerblad', 'okimono', 'oksaal', 'olie- en azijnstel', 'oliefles', 'oliekan', 'olielamp', 'oliemaat', 'olieverfschets', 'omslag', 'omslagdoek', 'onbekend', 'onderdeel', 'onderkast', 'onderscheiding', 'onderzetter', 'ontwerptekening', 'oorbel', 'oord', 'oorhanger', 'oorkonde', 'oorkop', 'oorlogsschip', 'oorring', 'oosters tapijt', 'oplegslot', 'opticaprent', 'opzet', 'opzetstuk', 'ordeteken', 'orgel', 'orgelkast', 'ornament', 'ornamenttekening', 'ossenkar', 'overjapon', 'overlijdensbericht', 'overlijdenspenning', 'overschoen', 'overval', 'pagode', 'pak (kleding)', 'palempore', 'palmensjaal', 'pan', 'paneel', 'pannenkoekbord', 'pannotypie', 'panorama', 'pantserplaat', 'papiernegatief', 'papkom', 'parasol', 'parfumbrander', 'partizaan', 'parure', 'pasglas', 'passant', 'passer', 'pasteipot', 'patentglas', 'paternoster', 'patroonmal', 'patroontas', 'patroontekening', 'pattijn', 'pattipan', 'paviljoenpoon', 'paviljoenschip', 'paxtafel', 'pelerine', 'pelgrimsfles', 'pelgrimskruik', 'pelgrimsstok', 'pen', 'penanttafel', 'pendule', 'pendulekast', 'pennenhouder', 'penning', 'penningdoos', 'penschildering', 'penseelhouder', 'penseelpot', 'penselenstandaard', 'pentekening', 'peper', 'peperbus', 'pepervat', 'percussiebuis', 'percussiegeweer', 'percussiepistool', 'percussieslot', 'pers', 'perspectieftekening', 'physionotrace', 'piano', 'piek', 'pijler', 'pijp', 'pijpenbak', 'pijpenfoedraal', 'pijpenkomfoor', 'pijpenkop', 'pijpenrek', 'pijpenslee', 'pijpenwroeter', 'pijpsleutel', 'pilaarbekleding', 'pilaster', 'pistool', 'plaatje', 'plafond', 'plafondschildering', 'plaque', 'plattegrond', 'plengbeker', 'plooikraag', 'plooischotel', 'polyptiek', 'ponjaard', 'poonschip', 'pop', 'poppenhuis', 'poppenkleding', 'porselein', 'porseleinkast', 'portefeuille', 'portiek', 'portiere', 'portretmedaillon', 'portrettegel', 'postwagen', 'potlood', 'predella', 'preekstoel', 'prentbriefkaart', 'prentenalbum', 'prenttekening', 'presenteerblad', 'priem', 'priesterschel', 'prijslijst', 'prijspen', 'prijspenning', 'proclamatie', 'proefdruk (prent)', 'proefmodel', 'proefstuk', 'programma', 'promotieprent', 'pronkmodel', 'propagandalint', 'pruikenstandaard', 'psychrometer', 'pul', 'punchkom', 'puntfles', 'putto', 'pyrotechnisch wapen', 'pyxide', 'qinglü shansui', 'rabat (object)', 'radslot', 'radslotgeweer', 'radslotkarabijn', 'radslotpistool', 'ragebol', 'rammelaar', 'ramtorenschip', 'rand', 'rapier', 'reaal', 'rebus', 'rechterstoel', 'reddingsboei', 'redingote', 'reisaltaar', 'reisbestek', 'reisnecessaire', 'reisverslag', 'rek', 'rekenpenning', 'reliquiarium', 'repetitiehorloge', 'replica', 'reproductie', 'retabel', 'reticule', 'reukbal', 'reukfles', 'revolver', 'ricordo', 'ridderorde', 'rijstwijnkom', 'rijtuigparasol', 'ring (sieraad)', 'rinkelbel', 'ritueel object', 'robe manteau', 'robe à la française', 'rock', 'roemer', 'roer (voertuigonderdeel)', 'roer (wapen)', 'rok', 'rokophouder', 'rolpaard (vuurwapenonderdeel)', 'rolschildering', 'rolwagen', 'roncone', 'rookgerei', 'rookstel', 'roompot', 'rooster', 'rotting', 'rouletteman', 'rouwsteek', 'rozenkrans', 'rozenwaterflacon', 'rugschild', 'ruiterharnas', 'ruitermantel', 'ruiterstandbeeld', 'rustbed', 'ryoshibako', 'sabel', 'sabelbajonet', 'sakefles', 'samovar', 'sauskom', 'scepter', 'schaaf', 'schaafbeitel', 'schaakspel', 'schaakstuk', 'schaar', 'schaats', 'scharenslijperskar', 'scharnier', 'scharnierbril', 'schede', 'scheepsbel', 'scheepskompas', 'scheepslantaarn', 'scheepsmodel', 'scheepssier', 'scheepstimmermanspasser', 'scheepstuig', 'scheepsvlag', 'scheerbekken', 'schel', 'schelp', 'schenkkan', 'schenkpiring', 'schenkvat', 'schep', 'scherf', 'scherm', 'schets', 'schetsboekblad', 'schijf', 'schild', 'schilddrager', 'schilderijlijst', 'schilderskist', 'schildpadschild', 'schinkel', 'schip', 'schoengesp', 'schoenlepel', 'schommelwieg', 'schooltas', 'schoonmaakartikel', 'schoorsteen', 'schoorsteenbetimmering', 'schoorsteenfries', 'schoorsteenhaak', 'schoorsteenklok', 'schoorsteenmantel', 'schoorsteenpilaster', 'schoorsteenstuk', 'schoorsteenval', 'schouw', 'schraagtafel', 'schrijfboek', 'schrijfcassette', 'schrijfkabinet', 'schrijfmeubel', 'schrijftafel', 'schroef', 'schroefas', 'schroefdaalder', 'schroeffles', 'schroefsleutel', 'schroefstoomschip', 'schuier', 'schuif', 'schuifsleutel', 'schuimspaan', 'schulpboor', 'schuttersbiljet', 'schuttersketen', 'schutterspenning', 'schuurplank', 'secretaire', 'seingeweer', 'serveertafel', 'servet', 'servies', 'sgabello', 'sierdegen', 'sierstuk', 'sigarenkist', 'simpliciakast', 'sirihbladhouder', 'sirihdoos', 'sits', 'sjaal', 'sjako', 'sjamberlouk', 'slaapmat', 'slaapmuts', 'slagband', 'slakom', 'slee', 'slingerglas', 'sliphaak', 'sloep', 'slof', 'slot', 'slotplaat', 'sluier', 'sluitgewicht', 'sluitmand', 'sluitstuk', 'smidswagen', 'snaarinstrument', 'snaphaanslot', 'snel', 'snijbord', 'snotneus', 'snuifdoos', 'snuiter', 'soepterrine', 'sokbeurs', 'sokkel', 'spaarpot', 'spaarvarken', 'spanwantschroef', 'spanzaag', 'spatel', 'spatscherm', 'specerijdoos', 'specerijpot', 'specerijservies', 'speelbeurs', 'speelgoed', 'speelkaart', 'spel', 'speld', 'speldenkussen', 'spiegel', 'spiegeldoos', 'spiegelkabinet', 'spiegellijst', 'spijker', 'spinnewiel', 'spoelkom', 'sponton', 'sportkleding', 'spotpenning', 'sprei', 'spreidloopwapen', 'spuier', 'staaf', 'staande klok', 'stadhoudersstoel', 'stadskan', 'staf', 'stafbekroning', 'stalenboek', 'stamper', 'standaard (dragend meubilair)', 'standaard (identificatiedrager)', 'stapeldoos', 'statenjacht', 'steek', 'steekbeitel', 'steel', 'steelpan', 'steen (objectnaam)', 'steengoed', 'stempel', 'steng', 'stereofoto (tissue)', 'stereoglasfoto', 'sterkabinet', 'sterrenkaart', 'stertegel', 'steun', 'stoelbekleding', 'stoepa', 'stofblik', 'stoftheebus', 'stok', 'stokknop', 'stokwaaier', 'stokwapen', 'stola (liturgisch)', 'stomme knecht', 'stoof', 'stoomschip', 'stortebeker', 'strijkijzer', 'strooibus', 'strooier', 'strooilepel', 'strooipenning', 'strook', 'stroopkan', 'struisvogelei', 'studie', 'suikerbak', 'suikerbus', 'suikerdoos', 'suikerlepel', 'suikerpot', 'suikertang', 'suikervaas', 'superposee', 'suzuribako', 'taartpan', 'tabaksblik', 'tabaksdoos', 'tabakskomfoor', 'tabakspot', 'tabakszak', 'tabernakeldeur', 'tableau', 'tablier', 'taboeret', 'tafelbel', 'tafelblad', 'tafelblik', 'tafelhorloge', 'tafelkast', 'tafelkleed', 'tafelklok', 'tafellaken', 'tafelmes', 'tafelmiddenstuk', 'tafelschuier', 'tafelstuk', 'tak', 'takel', 'talam', 'tamboer-maître stok', 'tand', 'tandenstoker', 'tang', 'tangka', 'tapijt', 'tapkraan', 'tas', 'tasbeugel', 'tazza', 'tegeltableau', 'tegelveld', 'tegelvloer', 'tegengewicht', 'tekst', 'telegraaf', 'telegraafkabel', 'teljoor', 'tempel', 'testament (wilsbeschikking)', 'tetraptych', 'textiel', 'textielbewerkingsgereedschap', 'theeblad', 'theebus', 'theeketel', 'theekist', 'theekom', 'theekop', 'theelepel', 'theeservies', 'theestoof', 'theetafel', 'thermometer', 'tiara', 'timpaan', 'toetsinstrument', 'toiletartikel', 'toiletbenodigdheden', 'toiletdoos', 'toiletkist', 'toilettafel', 'tol', 'tondeldoos', 'tondo', 'toneelkijker', 'tonnestoel', 'toogkast', 'torchère', 'touw', 'toverlantaarnplaat', 'transportschip', 'trechter', 'trechterkan', 'treeft', 'trekschuit', 'trektafel', 'trembleuse', 'triktrakspel', 'triomfpenning', 'trip', 'troffel', 'trom', 'trommel (houder)', \"trompe-l'oeil\", 'trompet', 'trouwjapon', 'trouwkleding', 'tuinbank', 'tuinbeeld', 'tuinvaas', 'tuitkan', 'tulpenhouder', 'turfmand', 'tweehander', 'tweeluik', 'tweetoerenslot', 'tête-à-tête', 'uchiwa-e', 'uitgeversbrochure', 'uitgeversprospectus', 'uithangbord', 'uitnodiging', 'uitrustingsstuk', 'uniform', 'urn', 'uurwerk', 'vaandel', 'vaarstok', 'val', 'valhoed', 'vat', 'veger', 'veldbed', 'veldfles', 'veloutébehang', 'verdure', 'vergiet', 'verkeersbord', 'verklaring', 'verklikker', 'verlichting', 'verlucht manuscript', 'verpakking', 'verpakkingsmateriaal', 'vervalsing', 'verwarming', 'verzamelalbum', 'vest', 'vestingbok', 'vidimus', 'vignet', 'vijzel', 'vingerhoed', 'vingerring', 'vingerschildering', 'viool', 'virginaal', 'visitekaartje', 'viskom', 'viskorf', 'visvergiet', 'vlag', 'vlas', 'vleeskroon', 'vleugelglas', 'vloertegel', 'vochtweger', 'voertuig', 'voet', 'voetangel', 'voetenbank', 'voetstuk', 'vogelkooi', 'voile', 'voorhoofdsbril', 'voorplat', 'voorraadpot', 'voorschoot', 'voorsnijmes', 'voorstudie', 'voorwagen', 'voorzetraam', 'vork', 'votiefbeeld', 'vouwscherm', 'vouwstoel', 'vouwwaaier', 'vrouwenfiguur', 'vrucht', 'vuistlepel', 'vuurbok', 'vuurkorf', 'vuurmand', 'vuurplaat', 'vuurpot', 'vuurscherm', 'vuurscherm (waaier)', 'vuursteengeweer', 'vuursteenkarabijn', 'vuursteenslot', 'vuursteenwapen', 'vuurstolp', 'vuurtang', 'vuurtest', 'vuurtoren', 'vuurwapen', 'waaier', 'waaierblad', 'waaierdoos', 'wafelijzer', 'wagen', 'walbus', 'waldhoorn', 'wambuis', 'wandarm', 'wandbespanning', 'wandblaker', 'wandbord', 'wandelstok', 'wandelstokknop', 'wandkast', 'wandplaat', 'wandtafel', 'wangtafel', 'wapenbord', 'wapenrek', 'wapenruit', 'wapenrusting', 'wapenschild', 'waskom', 'waterbak', 'waterdruppelaar', 'waterkan', 'waterketel', 'waterpeilglas', 'waterpijp', 'waterpot', 'waterspuwer', 'watervat', 'weefsel', 'weegschaal', 'wensbrief', 'wentke', 'werkkleding', 'werktekening', 'werktuig', 'wervel', 'wieg', 'wiegenlaken', 'wiegensprei', 'wierookbrander', 'wierookdoos', 'wierookschaal', 'wierookvat', 'wig', 'wijnbeker', 'wijnfontein', 'wijnkan', 'wijnkaraf', 'wijnkoeler', 'wijnkroes', 'wijnkruik', 'wijnproefschaal', 'wijnvat', 'wijwaterbak', 'windinstrument', 'windstreekhoeder', 'windwijzer', 'yakshi', 'you', 'zak', 'zakdoek', 'zakhorloge', 'zakpistool', 'zaksmaat', 'zandstrooier', 'zeef', 'zeepbakje', 'zeepdoos', 'zeephouder', 'zegel', 'zegelring', 'zegelstempel', 'zeil', 'zeildoek', 'zeilschip', 'zeilsteen', 'ziekenstoel', 'zijdeweefsel', 'zijpaneel', 'zonnewijzer', 'zoutlepel', 'zuil', 'zwaard (wapen)', 'zwavelstokkenbak', 'zwengelboor'] will be ignored\n",
            "  .format(sorted(unknown, key=str)))\n",
            "/usr/local/lib/python3.6/dist-packages/sklearn/preprocessing/_label.py:987: UserWarning: unknown class(es) ['Avalokitesvara', 'Boeddha-beeld', 'Delftse faïence', 'Duits porselein', 'Frankenthal porselein', 'Hansje-in-de-kelder', 'Jacobakan', 'Marianum', 'Perzische miniatuur', 'Savonnerie-tapijt', 'Visjnoe', 'aardewerk', 'achterglasschildering', 'achterplaat', 'afgietsel', 'aker (emmer)', 'aker (versiersel)', 'albarello', 'almanak', 'amazonekostuum', 'ameublement', 'anker (scheepsuitrusting)', 'applique', 'aquarel', 'architectuurtekening', 'armband', 'armenloodje', 'astrolabium', 'avegaar', 'avondmaalskelk', 'avondmaalsschotel', 'baardmankruik', 'bajonet', 'bak', 'bakermat', 'balans (meetinstrument)', 'balpoottafel', 'bank', 'barometer', 'bas-reliëf', 'bed', 'beddengoed', 'bedelnap', 'beeldengroep', 'beeldmotet', 'begrafenisschild', 'behangsel', 'beitel', 'bekerschroef', 'bekervaas', 'bel', 'betimmering', 'beurs', 'bianhu', 'bierpul', 'bijl (gereedschap)', 'biljet', 'bisschopsstaf', 'blaasbalg', 'blad', 'blaker', 'blik', 'bloemenkleed', 'bloemhouder', 'bloempiramide', 'bloempot', 'blok', 'bodem (potscherven)', 'bodhisattva', 'boegbeeld', 'boegspriet', 'boekband', 'boekslot', 'bokaal', 'bol', 'bonnet-coiffure', 'boor', 'booromslag', 'bordspel (set)', 'borstelrug', 'boterpot', 'bouilloire', 'bouwfragment', 'bovenkleding', 'braadijzer', 'bramsteng', 'brief', 'briefpapier', 'brievenbus', 'brieventas', 'bril', 'brisé-waaier', 'broche (sieraad)', 'broek', 'broodloodje', 'bruidshandschoen', 'bruidskist', 'buidel', 'bureaustoel', 'bus', 'buste', 'calèche', 'canapé', 'carronade', 'cartografie', 'cassapanca', 'cassette', 'cassone', 'centraalvuurgeweer', 'ceremonieel wapen', 'chaire', 'chatelaine', 'chocoladekan', 'chocoladekop', 'cizhai-type', 'collier', 'commandostaf', 'commode', 'cong', 'consoleklok', 'constructiemodel', 'corbeille de mariage', 'coupe', 'daalder', 'damschijf', 'degen', 'deken', 'dekselpot', 'dekselvaas', 'dekservet', 'dessertbord', 'dessus-de-porte', 'deur', 'deurgrendel', 'deurhengsel', 'deurklopper', 'deurpost', 'diadeem', 'diafanoramaplaat', 'dienblad', 'diep bord', 'dieplood', 'dierfiguur', 'dierstudie', 'diorama', 'diptiek', 'documentaire foto', 'doelgeweer', 'domper', 'draagteken', 'draailooppistool', 'draaislede', 'draaisleutel', 'drinkgerei', 'drinkglas', 'drinkschaal', 'druiventros', 'drukwerk', 'duimenglas', 'dwarsfluit', 'egoyomi (kalenderblad)', 'emmer', 'enkellaars', 'erepenning', 'eresabel', 'etui', 'familiepenning', 'familiewapen', 'fichu', 'flambouwkandelaar', 'flapkan', 'foedraal', 'fontein', 'fopkan', 'fotoalbum', 'fotomechanisch procedé', 'fregat', 'frontispice', 'fruitmand', 'fruitschaal', 'fruittest', 'ganzenpen', 'ganzenroer', 'garenwinder', 'gatenpetiel', 'gatenplateel', 'gealbuminiseerde zoutdruk', 'gebakschaal', 'gedenkpenning', 'geldkist', 'gemberpot', 'gereedschap', 'geschut', 'gesp', 'gevelsteen', 'geweer', 'gewicht', 'ghanta', 'gildebrief', 'gildepenning', 'gildeschild', 'glas (objectnaam)', 'glasplaatnegatief', 'gordel', 'gordelhaak', 'gouache', 'goudleer', 'graadstok', 'graanmaat', 'graffiguur', 'granaat (munitie)', 'grendel', 'haar (materiaal)', 'haarkam (haartooi)', 'haarkam (toiletartikel)', 'hakbeitel', 'halfmodel', 'hamer', 'handgreep', 'handscherm', 'handschoen', 'handvat', 'handwerkgerei', 'hanger (sieraad)', 'hangmat', 'hangrol', 'hangslot', 'hartsvanger', 'heliotypie', 'hellebaard', 'helm', 'hengselmand', 'heraldisch object', 'herdenkingsbord', 'herenkleding', 'hibachi', 'hiire', 'hoed', 'hoedenlint', 'hoekkast', 'hoofddeksel', 'hoogreliëf', 'horloge', 'houder', 'houtskoolbrander', 'houwer', 'hu', 'huisaltaar', 'huisjas', 'humpen', 'huwelijksjubileumpenning 25', 'huwelijkspenning', 'huwelijksprent', 'ijsbreker', 'ijsstok', 'inhoudsmaat droge waren', 'inhoudsmaat natte waren', 'inhoudsopgave', 'inktstel', 'inro', 'instrument', 'interieuronderdeel', 'ivoorsnijwerk', 'jachtgeweer', 'jachtwapen', 'japon', 'japonse rok', 'jardinière', 'jas', 'jasje', 'jubako', 'justaucorps', 'juwelenkist', 'kaapstander (hefwerktuig)', 'kaarsensnuiter', 'kabinet', 'kachelplaat', 'kaft', 'kalender', 'kalenderhorloge', 'kalkbak', 'kam', 'kamer', 'kamerbeschildering', 'kamerheersleutel', 'kamerjas', 'kamerscherm', 'kandelaber', 'kanon', 'kanonskogel', 'karaf', 'kardoes', 'kasjmiersjaal', 'kastanjevaas', 'kaststel', 'kendi', 'kerkstoel', 'ketel', 'keten', 'kinderkleding', 'kinderprent', 'kinderstoel', 'klaptafel', 'klavier', 'kleed', 'klok', 'klokkandelaar', 'klos', 'knip', 'knipselkunst', 'knobbelfles', 'knobbelhoornbeker', 'knoop', 'knottebeurs', 'knottedoos', 'koffer', 'koffiekan', 'koffiekop', 'koffiemolen', 'kogel (munitie)', 'kogelslot', 'koker', 'kokosnootbeker', 'kom met deksel', 'kom op voet', 'komfoor', 'kompas', 'kookpot', 'kooldruk', 'kopie', 'kopie naar prent', 'kopie naar tekening', 'korbeel', 'kostuumstudie', 'kozuka', 'kraag', 'kraagkandelaar', 'kraaikop', 'kraamschut', 'krant', 'kris', 'kroes', 'kroonluchter', 'kruistegel', 'kruisvoetkabinet', 'kruithoorn', 'kruitmaat', 'kruiwagen', 'krukgewicht', 'kunstkast', 'kunstklip', 'kussen', 'kussenovertrek', 'kwast (garneersel)', 'kwispedoor', 'laadstok', 'laars', 'ladder', 'lamp', 'lampetkan', 'lampetstel', 'ledikant', 'leest', 'lekbak', 'leporello-album', 'lichtscherm', 'lidmaatschapsbewijs', 'lied', 'lijfje', 'lijst', 'lilla', 'linieschip', 'linnenpers', 'lint', 'liturgisch vaatwerk', 'logvin', 'lontroer', 'lontslotwapen', 'lontstok', 'lontvat', 'loopbundelpistool', 'loterijbrief', 'loterijprent', 'luchtdrukgeweer', 'luik (object)', 'luster (verlichtingsmiddel)', 'maatstok', 'magistratenkussen', 'mallejan', 'manchet', 'mand', 'mannenfiguur', 'mantel', 'manuscript', 'maquette', 'masker', 'mast', 'medaillon', 'medaillon (sieraad)', 'medaillonportret', 'meetinstrument', 'meetlint', 'melkkan', 'melkmaat', 'merklap', 'mes (snijgereedschap)', 'meter', 'middenstuk', 'miskelk', 'misthoorn', 'mitaine', 'modello', 'modeprent', 'molenaar', 'monster (object)', 'monsterbord', 'monstrans', 'mosterdpot', 'muiltje', 'muntgewicht', 'musket', 'musketvork', 'muts', 'muurschildering', 'muzikant', 'naaigarnituur', 'naaigerei', 'naaikussen', 'naaldenkoker', 'nan', 'nap', 'natfruitschaal', 'nautilusbeker', 'navigatie-instrument', 'netsuke', 'nieuwjaarswens', 'nieuwsbrief', 'noodmunt', 'notitieboek', 'offerblok', 'offertafel', 'ojime', 'olie- en azijnstel', 'oliebak', 'oliemaat', 'omslag', 'onderdeel', 'onderstel', 'ontwerptekening', 'oorhanger', 'oorkop', 'oosters tapijt', 'opscheplepel', 'opzet', 'orgelkast', 'ornament', 'ornamenttekening', 'overlijdenspenning', 'overschoen', 'palempore', 'pan', 'paneel', 'pannenkoekbord', 'panorama', 'papiernegatief', 'paraplu', 'parasol', 'parfumbrander', 'partizaan', 'parure', 'pasteipot', 'pastiche', 'patroontas', 'pattijn', 'pattipan', 'peilstok', 'pelgrimsfles', 'pen', 'penning', 'penningdoos', 'penschildering', 'penseelhouder', 'peper- en zoutstel', 'peperbus', 'percussiepistool', 'percussieslot', 'pers', 'perspectiefkast', 'physionotrace', 'piek', 'piekenier', 'pijp', 'pijpenfoedraal', 'pijpenkabinet', 'pijpenkomfoor', 'pijpsleutel', 'pistool', 'plaque', 'plattegrond', 'po', 'pop', 'poppenhuis', 'poppenkleding', 'porselein', 'portiere', 'portretmedaillon', 'predella', 'predikbeurtenbord', 'prentbriefkaart', 'prentenalbum', 'prenttekening', 'presenteerblad', 'priem', 'prijspenning', 'proefmodel', 'programma', 'promotieprent', 'pronkmodel', 'pronkstuk', 'propagandalint', 'pul', 'punchkom', 'puntfles', 'pyrotechnisch wapen', 'pyxide', 'raam', 'radslotkarabijn', 'radslotpistool', 'rammelaar', 'reclamebord', 'reddingsboei', 'redingote', 'reisbestek', 'reishorloge', 'rek', 'rekenpenning', 'reliquiarium', 'reticule', 'reukbal', 'reukfles', 'rijgnaald', 'ring', 'ring (sieraad)', 'ritueel object', 'roemer', 'roer (voertuigonderdeel)', 'roerstok', 'rolpaard (vuurwapenonderdeel)', 'rolschildering', 'rolwagen', 'roompot', 'rotting', 'rouletteman', 'sabbatlamp', 'sabel', 'sakefles', 'sauskom', 'scepter', 'schaaf', 'schaafbeitel', 'schaakstuk', 'schaar', 'schede', 'scheepskameel', 'scheepsmodel', 'scheepstuig', 'scheepsvlag', 'scheerbekken', 'schenkblad', 'schenkkan', 'schenkpiring', 'scherf', 'scherm', 'schetsboekblad', 'schijf', 'schild', 'schilddrager', 'schilderijenstandaard', 'schilderijlijst', 'schinkelhaak', 'schoengesp', 'schoorsteenstuk', 'schrijfkist', 'schroefstoomschip', 'schuier', 'schuif', 'schuifsleutel', 'schuttersbiljet', 'schuttersvogel', 'schuurplank', 'secretaire', 'servet', 'servies', 'sgabello', 'sierstuk', 'siertegel', 'sirihdoos', 'sits', 'sjaal', 'sjamberlouk', 'sjees', 'slakom', 'slijpplank', 'slingerglas', 'sliphaak', 'slot', 'sluitgewicht', 'snaphaangeweer', 'snel', 'snuifdoos', 'sokbeurs', 'spaarpot', 'specerijdoos', 'specerijpot', 'specerijservies', 'speeldoos', 'speelgoed', 'speelkaart', 'spel', 'speld', 'spiegel', 'spiegeldoos', 'spiegellijst', 'spinet', 'spoelkom', 'sportkleding', 'sprei', 'staande klok', 'staf', 'stafbekroning', 'stalenboek', 'stamper', 'standaard (dragend meubilair)', 'stapeldoos', 'steek', 'steenmortier', 'stempel', 'steng', 'stereoglasdia', 'sterrenkaart', 'stertegel', 'stoelbekleding', 'stofblik', 'stoftheebus', 'stokwaaier', 'stokwapen', 'stoof', 'stoomketel', 'strooibus', 'stroopkan', 'suikerbus', 'suikerdoos', 'suikerpot', 'taartpan', 'tabaksdoos', 'tabakskomfoor', 'tabakspot', 'tafelbel', 'tafelblad', 'tafelkleed', 'tafelklok', 'tafellaken', 'tafelmes', 'tapijt', 'tas', 'tazza', 'tegeltableau', 'tegelveld', 'telegraaf', 'test', 'textiel', 'theebus', 'theekom', 'theekop', 'theelepel', 'theeservies', 'theetafel', 'toegangskaart', 'toegangspenning', 'toiletspiegel', 'tondo', 'torpedo', 'toverlantaarnplaat', 'trechter', 'trechterkan', 'treeft', 'trektafel', 'trepaan', 'triomfpenning', 'troffel', 'trommel (houder)', 'trommelstok', 'trouwkleding', 'trouwring', 'tuinbeeld', 'tuitkan', 'tweehander', 'tête-à-tête', 'uchiwa-e', 'uitgeversbrochure', 'uitgeversprospectus', 'uithangbord', 'uitnodiging', 'uurwerk', 'vat', 'verdure', 'vergiet', 'verlichting', 'verpakking', 'verpakkingsmateriaal', 'vest', 'vetbak', 'vidimus', 'vignet', 'vijl', 'vijzel', 'vingerhoed', 'vingerschildering', 'visitekaartje', 'viskom', 'vissersboot', 'vloertegel', 'voetenbank', 'voetstuk', 'vogelkooi', 'voorsnijmes', 'voorstudie', 'voorstudie (schilderij)', 'vork', 'votiefbeeld', 'vouwstoel', 'vouwwaaier', 'vrouwenfiguur', 'vuurbok', 'vuurscherm (waaier)', 'vuursteengeweer', 'vuursteenslot', 'vuursteenwapen', 'vuurtang', 'vuurtest', 'waaier', 'waaierdoos', 'wagen', 'wakizashi', 'wandarm', 'wandbespanning', 'wandblaker', 'wandelstok', 'wandkast', 'wandtafel', 'wapenbord', 'wapenrok', 'wapenruit', 'wapenrusting', 'waskom', 'waterkan', 'watermolen', 'waterschip', 'watervat', 'waterzuiveringsinstallatie', 'weefsel', 'weegschaal', 'werktekening', 'wierookbrander', 'wierookdoos', 'wijnbeker', 'wijnkan', 'wijnkoeler', 'wijnvat', 'wijzerplaat', 'windwijzer', 'woordenboek', 'you', 'yu', 'zakhorloge', 'zakpistool', 'zalfpot', 'zeepbakje', 'zegelstempel', 'zhi', 'zijdeweefsel', 'zijpaneel', 'zwaard (wapen)', 'zwengelboor'] will be ignored\n",
            "  .format(sorted(unknown, key=str)))\n"
          ],
          "name": "stderr"
        }
      ]
    },
    {
      "cell_type": "code",
      "metadata": {
        "colab": {
          "base_uri": "https://localhost:8080/"
        },
        "id": "--mniq9nP1mk",
        "outputId": "ba4ad40f-b0b1-43e8-9d85-7aa2f72cf251"
      },
      "source": [
        "type_clf = keras.Sequential([\n",
        "  L.Dense(n_types,'sigmoid')\n",
        "])\n",
        "\n",
        "type_clf.compile(\n",
        "    keras.optimizers.Adam(),\n",
        "    SigmoidFocalCrossEntropy()\n",
        ")\n",
        "\n",
        "type_clf.fit(x=x_train,y=train_types,epochs=50,validation_split=0.2)"
      ],
      "execution_count": null,
      "outputs": [
        {
          "output_type": "stream",
          "text": [
            "Epoch 1/50\n",
            "2241/2241 [==============================] - 6s 3ms/step - loss: 3.9974 - val_loss: 1.0118\n",
            "Epoch 2/50\n",
            "2241/2241 [==============================] - 6s 3ms/step - loss: 0.5730 - val_loss: 0.3416\n",
            "Epoch 3/50\n",
            "2241/2241 [==============================] - 6s 3ms/step - loss: 0.2632 - val_loss: 0.2182\n",
            "Epoch 4/50\n",
            "2241/2241 [==============================] - 6s 3ms/step - loss: 0.1954 - val_loss: 0.1837\n",
            "Epoch 5/50\n",
            "2241/2241 [==============================] - 6s 3ms/step - loss: 0.1752 - val_loss: 0.1759\n",
            "Epoch 6/50\n",
            "2241/2241 [==============================] - 6s 3ms/step - loss: 0.1677 - val_loss: 0.1715\n",
            "Epoch 7/50\n",
            "2241/2241 [==============================] - 6s 3ms/step - loss: 0.1644 - val_loss: 0.1685\n",
            "Epoch 8/50\n",
            "2241/2241 [==============================] - 6s 3ms/step - loss: 0.1622 - val_loss: 0.1677\n",
            "Epoch 9/50\n",
            "2241/2241 [==============================] - 6s 3ms/step - loss: 0.1606 - val_loss: 0.1672\n",
            "Epoch 10/50\n",
            "2241/2241 [==============================] - 6s 3ms/step - loss: 0.1594 - val_loss: 0.1685\n",
            "Epoch 11/50\n",
            "2241/2241 [==============================] - 6s 3ms/step - loss: 0.1585 - val_loss: 0.1670\n",
            "Epoch 12/50\n",
            "2241/2241 [==============================] - 6s 3ms/step - loss: 0.1578 - val_loss: 0.1666\n",
            "Epoch 13/50\n",
            "2241/2241 [==============================] - 6s 3ms/step - loss: 0.1572 - val_loss: 0.1655\n",
            "Epoch 14/50\n",
            "2241/2241 [==============================] - 6s 3ms/step - loss: 0.1564 - val_loss: 0.1656\n",
            "Epoch 15/50\n",
            "2241/2241 [==============================] - 6s 3ms/step - loss: 0.1560 - val_loss: 0.1663\n",
            "Epoch 16/50\n",
            "2241/2241 [==============================] - 6s 3ms/step - loss: 0.1557 - val_loss: 0.1657\n",
            "Epoch 17/50\n",
            "2241/2241 [==============================] - 6s 3ms/step - loss: 0.1551 - val_loss: 0.1653\n",
            "Epoch 18/50\n",
            "2241/2241 [==============================] - 6s 3ms/step - loss: 0.1549 - val_loss: 0.1654\n",
            "Epoch 19/50\n",
            "2241/2241 [==============================] - 6s 3ms/step - loss: 0.1545 - val_loss: 0.1662\n",
            "Epoch 20/50\n",
            "2241/2241 [==============================] - 6s 3ms/step - loss: 0.1543 - val_loss: 0.1653\n",
            "Epoch 21/50\n",
            "2241/2241 [==============================] - 6s 3ms/step - loss: 0.1538 - val_loss: 0.1655\n",
            "Epoch 22/50\n",
            "2241/2241 [==============================] - 6s 3ms/step - loss: 0.1537 - val_loss: 0.1659\n",
            "Epoch 23/50\n",
            "2241/2241 [==============================] - 6s 3ms/step - loss: 0.1535 - val_loss: 0.1651\n",
            "Epoch 24/50\n",
            "2241/2241 [==============================] - 6s 3ms/step - loss: 0.1531 - val_loss: 0.1650\n",
            "Epoch 25/50\n",
            "2241/2241 [==============================] - 6s 3ms/step - loss: 0.1530 - val_loss: 0.1671\n",
            "Epoch 26/50\n",
            "2241/2241 [==============================] - 6s 3ms/step - loss: 0.1528 - val_loss: 0.1654\n",
            "Epoch 27/50\n",
            "2241/2241 [==============================] - 6s 3ms/step - loss: 0.1526 - val_loss: 0.1673\n",
            "Epoch 28/50\n",
            "2241/2241 [==============================] - 6s 3ms/step - loss: 0.1523 - val_loss: 0.1659\n",
            "Epoch 29/50\n",
            "2241/2241 [==============================] - 6s 3ms/step - loss: 0.1524 - val_loss: 0.1667\n",
            "Epoch 30/50\n",
            "2241/2241 [==============================] - 6s 3ms/step - loss: 0.1521 - val_loss: 0.1657\n",
            "Epoch 31/50\n",
            "2241/2241 [==============================] - 6s 3ms/step - loss: 0.1522 - val_loss: 0.1663\n",
            "Epoch 32/50\n",
            "2241/2241 [==============================] - 6s 3ms/step - loss: 0.1519 - val_loss: 0.1653\n",
            "Epoch 33/50\n",
            "2241/2241 [==============================] - 6s 3ms/step - loss: 0.1516 - val_loss: 0.1661\n",
            "Epoch 34/50\n",
            "2241/2241 [==============================] - 6s 3ms/step - loss: 0.1517 - val_loss: 0.1667\n",
            "Epoch 35/50\n",
            "2241/2241 [==============================] - 6s 3ms/step - loss: 0.1515 - val_loss: 0.1650\n",
            "Epoch 36/50\n",
            "2241/2241 [==============================] - 6s 3ms/step - loss: 0.1513 - val_loss: 0.1675\n",
            "Epoch 37/50\n",
            "2241/2241 [==============================] - 6s 3ms/step - loss: 0.1513 - val_loss: 0.1664\n",
            "Epoch 38/50\n",
            "2241/2241 [==============================] - 6s 3ms/step - loss: 0.1512 - val_loss: 0.1662\n",
            "Epoch 39/50\n",
            "2241/2241 [==============================] - 6s 3ms/step - loss: 0.1510 - val_loss: 0.1665\n",
            "Epoch 40/50\n",
            "2241/2241 [==============================] - 6s 3ms/step - loss: 0.1511 - val_loss: 0.1669\n",
            "Epoch 41/50\n",
            "2241/2241 [==============================] - 6s 3ms/step - loss: 0.1510 - val_loss: 0.1666\n",
            "Epoch 42/50\n",
            "2241/2241 [==============================] - 6s 3ms/step - loss: 0.1510 - val_loss: 0.1672\n",
            "Epoch 43/50\n",
            "2241/2241 [==============================] - 6s 3ms/step - loss: 0.1507 - val_loss: 0.1672\n",
            "Epoch 44/50\n",
            "2241/2241 [==============================] - 6s 3ms/step - loss: 0.1507 - val_loss: 0.1664\n",
            "Epoch 45/50\n",
            "2241/2241 [==============================] - 6s 3ms/step - loss: 0.1505 - val_loss: 0.1695\n",
            "Epoch 46/50\n",
            "2241/2241 [==============================] - 6s 3ms/step - loss: 0.1506 - val_loss: 0.1670\n",
            "Epoch 47/50\n",
            "2241/2241 [==============================] - 6s 3ms/step - loss: 0.1507 - val_loss: 0.1687\n",
            "Epoch 48/50\n",
            "2241/2241 [==============================] - 6s 3ms/step - loss: 0.1504 - val_loss: 0.1679\n",
            "Epoch 49/50\n",
            "2241/2241 [==============================] - 6s 3ms/step - loss: 0.1502 - val_loss: 0.1684\n",
            "Epoch 50/50\n",
            "2241/2241 [==============================] - 6s 3ms/step - loss: 0.1502 - val_loss: 0.1685\n"
          ],
          "name": "stdout"
        },
        {
          "output_type": "execute_result",
          "data": {
            "text/plain": [
              "<tensorflow.python.keras.callbacks.History at 0x7f1b89c33780>"
            ]
          },
          "metadata": {
            "tags": []
          },
          "execution_count": 29
        }
      ]
    },
    {
      "cell_type": "code",
      "metadata": {
        "colab": {
          "base_uri": "https://localhost:8080/"
        },
        "id": "PJKKp1m1Qwtf",
        "outputId": "4262a6b5-cbbf-410a-bdd2-357ad73abce3"
      },
      "source": [
        "test_pred = type_clf.predict(x_test)\n",
        "\n",
        "iMAP = average_precision_score(\n",
        "    test_types[~np.all(test_types==0,1),:],\n",
        "    test_pred[~np.all(test_types==0,1),:],\n",
        "    average='samples')\n",
        "\n",
        "print(f'{n_types} Art Type Multi-Label Classification iMAP: {iMAP:0.4f}')\n",
        "\n",
        "MAP = average_precision_score(\n",
        "    test_types,\n",
        "    test_pred,\n",
        "    average='macro'\n",
        ")\n",
        "print(f'{n_types} Art Type Multi-Label Classification MAP: {MAP:0.4f}')"
      ],
      "execution_count": null,
      "outputs": [
        {
          "output_type": "stream",
          "text": [
            "101 Art Type Multi-Label Classification iMAP: 0.8898\n",
            "101 Art Type Multi-Label Classification MAP: 0.3875\n"
          ],
          "name": "stdout"
        }
      ]
    }
  ]
}